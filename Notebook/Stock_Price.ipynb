{
  "cells": [
    {
      "cell_type": "markdown",
      "metadata": {
        "id": "GzREJ74h0CEi"
      },
      "source": [
        "<h1 align='center'><b><u>Stock Prediction on Real-time Data</u></b></h1>"
      ]
    },
    {
      "attachments": {},
      "cell_type": "markdown",
      "metadata": {},
      "source": [
        "Open in GOOGLE COLAB <a href='https://githubtocolab.com/VetlaPavanKalyan/Stock-Price-Prediction/blob/main/Notebook/Stock_Price.ipynb'>here</a>"
      ]
    },
    {
      "cell_type": "markdown",
      "metadata": {
        "id": "hB_lerlV019M"
      },
      "source": [
        "- Import Pandas DataReader Module (*You can also find the complete Documentation <a href='https://pandas-datareader.readthedocs.io/en/latest/'>here</a>*)"
      ]
    },
    {
      "cell_type": "code",
      "execution_count": null,
      "metadata": {
        "id": "oWhVz9iLPUkM"
      },
      "outputs": [],
      "source": [
        "# !pip install pandas-datareader\n",
        "import pandas_datareader as pdr"
      ]
    },
    {
      "cell_type": "markdown",
      "metadata": {
        "id": "0o5MDVWK1wRM"
      },
      "source": [
        "- Now for Collecting the Real-time Data we use the Tiingo API (<a href='https://api.tiingo.com/'>here</a>) \n",
        "- Follow the steps mentioned in the following file <a href='https://github.com/VetlaPavanKalyan/Stock-Price-Prediction/blob/main/API%20Key%20Generation.md'>here</a>"
      ]
    },
    {
      "cell_type": "code",
      "execution_count": null,
      "metadata": {
        "id": "-H2mOhr1QGpa"
      },
      "outputs": [],
      "source": [
        "key = '' # Update this cell with your API Key"
      ]
    },
    {
      "cell_type": "markdown",
      "metadata": {
        "id": "16XQ58LA1l9q"
      },
      "source": [
        "- Now for our Prediction we are using **GOOGLE** Stocks Prediciton\n",
        "- **GOOGLE** 's STOCK ID according to Tiingo is ```GOOGL```\n",
        "- For Collecting the Data we use ```get_data_tiingo()``` method"
      ]
    },
    {
      "cell_type": "code",
      "execution_count": null,
      "metadata": {
        "colab": {
          "base_uri": "https://localhost:8080/"
        },
        "id": "MaGZ_xLpQXhw",
        "outputId": "5520b485-6413-4f7a-ec1f-c7a324056ae7"
      },
      "outputs": [
        {
          "name": "stderr",
          "output_type": "stream",
          "text": [
            "/usr/local/lib/python3.8/dist-packages/pandas_datareader/tiingo.py:234: FutureWarning: In a future version of pandas all arguments of concat except for the argument 'objs' will be keyword-only\n",
            "  return pd.concat(dfs, self._concat_axis)\n"
          ]
        }
      ],
      "source": [
        "df = pdr.get_data_tiingo('GOOGL', api_key=key)"
      ]
    },
    {
      "cell_type": "markdown",
      "metadata": {
        "id": "kK6ZB9gq9YZj"
      },
      "source": [
        "- Create a DataFrame on the Data we Collected"
      ]
    },
    {
      "cell_type": "code",
      "execution_count": null,
      "metadata": {
        "id": "hPsXBheEQ-_Y"
      },
      "outputs": [],
      "source": [
        "df.to_csv('./data.csv')"
      ]
    },
    {
      "cell_type": "code",
      "execution_count": null,
      "metadata": {
        "id": "E9CU0fTiRCth"
      },
      "outputs": [],
      "source": [
        "import pandas as pd\n",
        "df = pd.read_csv('./data.csv')"
      ]
    },
    {
      "cell_type": "markdown",
      "metadata": {
        "id": "UI6Q7uPS8one"
      },
      "source": [
        "- Exploratory Data Analysis"
      ]
    },
    {
      "cell_type": "code",
      "execution_count": null,
      "metadata": {
        "colab": {
          "base_uri": "https://localhost:8080/",
          "height": 337
        },
        "id": "xiryLGA6RIRE",
        "outputId": "51b80643-3f76-4624-ceb2-e350bba9cd2f"
      },
      "outputs": [
        {
          "data": {
            "text/html": [
              "\n",
              "  <div id=\"df-3f475c65-531b-45bf-9ed6-653fcd599309\">\n",
              "    <div class=\"colab-df-container\">\n",
              "      <div>\n",
              "<style scoped>\n",
              "    .dataframe tbody tr th:only-of-type {\n",
              "        vertical-align: middle;\n",
              "    }\n",
              "\n",
              "    .dataframe tbody tr th {\n",
              "        vertical-align: top;\n",
              "    }\n",
              "\n",
              "    .dataframe thead th {\n",
              "        text-align: right;\n",
              "    }\n",
              "</style>\n",
              "<table border=\"1\" class=\"dataframe\">\n",
              "  <thead>\n",
              "    <tr style=\"text-align: right;\">\n",
              "      <th></th>\n",
              "      <th>symbol</th>\n",
              "      <th>date</th>\n",
              "      <th>close</th>\n",
              "      <th>high</th>\n",
              "      <th>low</th>\n",
              "      <th>open</th>\n",
              "      <th>volume</th>\n",
              "      <th>adjClose</th>\n",
              "      <th>adjHigh</th>\n",
              "      <th>adjLow</th>\n",
              "      <th>adjOpen</th>\n",
              "      <th>adjVolume</th>\n",
              "      <th>divCash</th>\n",
              "      <th>splitFactor</th>\n",
              "    </tr>\n",
              "  </thead>\n",
              "  <tbody>\n",
              "    <tr>\n",
              "      <th>0</th>\n",
              "      <td>GOOGL</td>\n",
              "      <td>2018-01-16 00:00:00+00:00</td>\n",
              "      <td>1130.70</td>\n",
              "      <td>1148.88</td>\n",
              "      <td>1126.66</td>\n",
              "      <td>1140.31</td>\n",
              "      <td>1783881</td>\n",
              "      <td>56.5350</td>\n",
              "      <td>57.4440</td>\n",
              "      <td>56.3330</td>\n",
              "      <td>57.0155</td>\n",
              "      <td>35677620</td>\n",
              "      <td>0.0</td>\n",
              "      <td>1.0</td>\n",
              "    </tr>\n",
              "    <tr>\n",
              "      <th>1</th>\n",
              "      <td>GOOGL</td>\n",
              "      <td>2018-01-17 00:00:00+00:00</td>\n",
              "      <td>1139.10</td>\n",
              "      <td>1139.32</td>\n",
              "      <td>1123.49</td>\n",
              "      <td>1136.36</td>\n",
              "      <td>1353097</td>\n",
              "      <td>56.9550</td>\n",
              "      <td>56.9660</td>\n",
              "      <td>56.1745</td>\n",
              "      <td>56.8180</td>\n",
              "      <td>27061940</td>\n",
              "      <td>0.0</td>\n",
              "      <td>1.0</td>\n",
              "    </tr>\n",
              "    <tr>\n",
              "      <th>2</th>\n",
              "      <td>GOOGL</td>\n",
              "      <td>2018-01-18 00:00:00+00:00</td>\n",
              "      <td>1135.97</td>\n",
              "      <td>1140.59</td>\n",
              "      <td>1124.46</td>\n",
              "      <td>1139.35</td>\n",
              "      <td>1333633</td>\n",
              "      <td>56.7985</td>\n",
              "      <td>57.0295</td>\n",
              "      <td>56.2230</td>\n",
              "      <td>56.9675</td>\n",
              "      <td>26672660</td>\n",
              "      <td>0.0</td>\n",
              "      <td>1.0</td>\n",
              "    </tr>\n",
              "    <tr>\n",
              "      <th>3</th>\n",
              "      <td>GOOGL</td>\n",
              "      <td>2018-01-19 00:00:00+00:00</td>\n",
              "      <td>1143.50</td>\n",
              "      <td>1143.78</td>\n",
              "      <td>1132.50</td>\n",
              "      <td>1138.03</td>\n",
              "      <td>1418376</td>\n",
              "      <td>57.1750</td>\n",
              "      <td>57.1890</td>\n",
              "      <td>56.6250</td>\n",
              "      <td>56.9015</td>\n",
              "      <td>28367520</td>\n",
              "      <td>0.0</td>\n",
              "      <td>1.0</td>\n",
              "    </tr>\n",
              "    <tr>\n",
              "      <th>4</th>\n",
              "      <td>GOOGL</td>\n",
              "      <td>2018-01-22 00:00:00+00:00</td>\n",
              "      <td>1164.16</td>\n",
              "      <td>1166.88</td>\n",
              "      <td>1141.82</td>\n",
              "      <td>1143.82</td>\n",
              "      <td>1437954</td>\n",
              "      <td>58.2080</td>\n",
              "      <td>58.3440</td>\n",
              "      <td>57.0910</td>\n",
              "      <td>57.1910</td>\n",
              "      <td>28759080</td>\n",
              "      <td>0.0</td>\n",
              "      <td>1.0</td>\n",
              "    </tr>\n",
              "  </tbody>\n",
              "</table>\n",
              "</div>\n",
              "      <button class=\"colab-df-convert\" onclick=\"convertToInteractive('df-3f475c65-531b-45bf-9ed6-653fcd599309')\"\n",
              "              title=\"Convert this dataframe to an interactive table.\"\n",
              "              style=\"display:none;\">\n",
              "        \n",
              "  <svg xmlns=\"http://www.w3.org/2000/svg\" height=\"24px\"viewBox=\"0 0 24 24\"\n",
              "       width=\"24px\">\n",
              "    <path d=\"M0 0h24v24H0V0z\" fill=\"none\"/>\n",
              "    <path d=\"M18.56 5.44l.94 2.06.94-2.06 2.06-.94-2.06-.94-.94-2.06-.94 2.06-2.06.94zm-11 1L8.5 8.5l.94-2.06 2.06-.94-2.06-.94L8.5 2.5l-.94 2.06-2.06.94zm10 10l.94 2.06.94-2.06 2.06-.94-2.06-.94-.94-2.06-.94 2.06-2.06.94z\"/><path d=\"M17.41 7.96l-1.37-1.37c-.4-.4-.92-.59-1.43-.59-.52 0-1.04.2-1.43.59L10.3 9.45l-7.72 7.72c-.78.78-.78 2.05 0 2.83L4 21.41c.39.39.9.59 1.41.59.51 0 1.02-.2 1.41-.59l7.78-7.78 2.81-2.81c.8-.78.8-2.07 0-2.86zM5.41 20L4 18.59l7.72-7.72 1.47 1.35L5.41 20z\"/>\n",
              "  </svg>\n",
              "      </button>\n",
              "      \n",
              "  <style>\n",
              "    .colab-df-container {\n",
              "      display:flex;\n",
              "      flex-wrap:wrap;\n",
              "      gap: 12px;\n",
              "    }\n",
              "\n",
              "    .colab-df-convert {\n",
              "      background-color: #E8F0FE;\n",
              "      border: none;\n",
              "      border-radius: 50%;\n",
              "      cursor: pointer;\n",
              "      display: none;\n",
              "      fill: #1967D2;\n",
              "      height: 32px;\n",
              "      padding: 0 0 0 0;\n",
              "      width: 32px;\n",
              "    }\n",
              "\n",
              "    .colab-df-convert:hover {\n",
              "      background-color: #E2EBFA;\n",
              "      box-shadow: 0px 1px 2px rgba(60, 64, 67, 0.3), 0px 1px 3px 1px rgba(60, 64, 67, 0.15);\n",
              "      fill: #174EA6;\n",
              "    }\n",
              "\n",
              "    [theme=dark] .colab-df-convert {\n",
              "      background-color: #3B4455;\n",
              "      fill: #D2E3FC;\n",
              "    }\n",
              "\n",
              "    [theme=dark] .colab-df-convert:hover {\n",
              "      background-color: #434B5C;\n",
              "      box-shadow: 0px 1px 3px 1px rgba(0, 0, 0, 0.15);\n",
              "      filter: drop-shadow(0px 1px 2px rgba(0, 0, 0, 0.3));\n",
              "      fill: #FFFFFF;\n",
              "    }\n",
              "  </style>\n",
              "\n",
              "      <script>\n",
              "        const buttonEl =\n",
              "          document.querySelector('#df-3f475c65-531b-45bf-9ed6-653fcd599309 button.colab-df-convert');\n",
              "        buttonEl.style.display =\n",
              "          google.colab.kernel.accessAllowed ? 'block' : 'none';\n",
              "\n",
              "        async function convertToInteractive(key) {\n",
              "          const element = document.querySelector('#df-3f475c65-531b-45bf-9ed6-653fcd599309');\n",
              "          const dataTable =\n",
              "            await google.colab.kernel.invokeFunction('convertToInteractive',\n",
              "                                                     [key], {});\n",
              "          if (!dataTable) return;\n",
              "\n",
              "          const docLinkHtml = 'Like what you see? Visit the ' +\n",
              "            '<a target=\"_blank\" href=https://colab.research.google.com/notebooks/data_table.ipynb>data table notebook</a>'\n",
              "            + ' to learn more about interactive tables.';\n",
              "          element.innerHTML = '';\n",
              "          dataTable['output_type'] = 'display_data';\n",
              "          await google.colab.output.renderOutput(dataTable, element);\n",
              "          const docLink = document.createElement('div');\n",
              "          docLink.innerHTML = docLinkHtml;\n",
              "          element.appendChild(docLink);\n",
              "        }\n",
              "      </script>\n",
              "    </div>\n",
              "  </div>\n",
              "  "
            ],
            "text/plain": [
              "  symbol                       date    close     high      low     open  \\\n",
              "0  GOOGL  2018-01-16 00:00:00+00:00  1130.70  1148.88  1126.66  1140.31   \n",
              "1  GOOGL  2018-01-17 00:00:00+00:00  1139.10  1139.32  1123.49  1136.36   \n",
              "2  GOOGL  2018-01-18 00:00:00+00:00  1135.97  1140.59  1124.46  1139.35   \n",
              "3  GOOGL  2018-01-19 00:00:00+00:00  1143.50  1143.78  1132.50  1138.03   \n",
              "4  GOOGL  2018-01-22 00:00:00+00:00  1164.16  1166.88  1141.82  1143.82   \n",
              "\n",
              "    volume  adjClose  adjHigh   adjLow  adjOpen  adjVolume  divCash  \\\n",
              "0  1783881   56.5350  57.4440  56.3330  57.0155   35677620      0.0   \n",
              "1  1353097   56.9550  56.9660  56.1745  56.8180   27061940      0.0   \n",
              "2  1333633   56.7985  57.0295  56.2230  56.9675   26672660      0.0   \n",
              "3  1418376   57.1750  57.1890  56.6250  56.9015   28367520      0.0   \n",
              "4  1437954   58.2080  58.3440  57.0910  57.1910   28759080      0.0   \n",
              "\n",
              "   splitFactor  \n",
              "0          1.0  \n",
              "1          1.0  \n",
              "2          1.0  \n",
              "3          1.0  \n",
              "4          1.0  "
            ]
          },
          "execution_count": 6,
          "metadata": {},
          "output_type": "execute_result"
        }
      ],
      "source": [
        "df.head()"
      ]
    },
    {
      "cell_type": "code",
      "execution_count": null,
      "metadata": {
        "colab": {
          "base_uri": "https://localhost:8080/",
          "height": 337
        },
        "id": "B9Bf9Vd-RKbS",
        "outputId": "50aa6dd1-318b-4496-ba0f-6360f26366d3"
      },
      "outputs": [
        {
          "data": {
            "text/html": [
              "\n",
              "  <div id=\"df-8b6c822e-9a15-4ac4-acc9-d80c671ae2aa\">\n",
              "    <div class=\"colab-df-container\">\n",
              "      <div>\n",
              "<style scoped>\n",
              "    .dataframe tbody tr th:only-of-type {\n",
              "        vertical-align: middle;\n",
              "    }\n",
              "\n",
              "    .dataframe tbody tr th {\n",
              "        vertical-align: top;\n",
              "    }\n",
              "\n",
              "    .dataframe thead th {\n",
              "        text-align: right;\n",
              "    }\n",
              "</style>\n",
              "<table border=\"1\" class=\"dataframe\">\n",
              "  <thead>\n",
              "    <tr style=\"text-align: right;\">\n",
              "      <th></th>\n",
              "      <th>symbol</th>\n",
              "      <th>date</th>\n",
              "      <th>close</th>\n",
              "      <th>high</th>\n",
              "      <th>low</th>\n",
              "      <th>open</th>\n",
              "      <th>volume</th>\n",
              "      <th>adjClose</th>\n",
              "      <th>adjHigh</th>\n",
              "      <th>adjLow</th>\n",
              "      <th>adjOpen</th>\n",
              "      <th>adjVolume</th>\n",
              "      <th>divCash</th>\n",
              "      <th>splitFactor</th>\n",
              "    </tr>\n",
              "  </thead>\n",
              "  <tbody>\n",
              "    <tr>\n",
              "      <th>1254</th>\n",
              "      <td>GOOGL</td>\n",
              "      <td>2023-01-09 00:00:00+00:00</td>\n",
              "      <td>88.02</td>\n",
              "      <td>90.05</td>\n",
              "      <td>87.8600</td>\n",
              "      <td>88.36</td>\n",
              "      <td>29003901</td>\n",
              "      <td>88.02</td>\n",
              "      <td>90.05</td>\n",
              "      <td>87.8600</td>\n",
              "      <td>88.36</td>\n",
              "      <td>29003901</td>\n",
              "      <td>0.0</td>\n",
              "      <td>1.0</td>\n",
              "    </tr>\n",
              "    <tr>\n",
              "      <th>1255</th>\n",
              "      <td>GOOGL</td>\n",
              "      <td>2023-01-10 00:00:00+00:00</td>\n",
              "      <td>88.42</td>\n",
              "      <td>88.67</td>\n",
              "      <td>85.8300</td>\n",
              "      <td>85.98</td>\n",
              "      <td>30467755</td>\n",
              "      <td>88.42</td>\n",
              "      <td>88.67</td>\n",
              "      <td>85.8300</td>\n",
              "      <td>85.98</td>\n",
              "      <td>30467755</td>\n",
              "      <td>0.0</td>\n",
              "      <td>1.0</td>\n",
              "    </tr>\n",
              "    <tr>\n",
              "      <th>1256</th>\n",
              "      <td>GOOGL</td>\n",
              "      <td>2023-01-11 00:00:00+00:00</td>\n",
              "      <td>91.52</td>\n",
              "      <td>91.60</td>\n",
              "      <td>89.0100</td>\n",
              "      <td>89.18</td>\n",
              "      <td>26861969</td>\n",
              "      <td>91.52</td>\n",
              "      <td>91.60</td>\n",
              "      <td>89.0100</td>\n",
              "      <td>89.18</td>\n",
              "      <td>26861969</td>\n",
              "      <td>0.0</td>\n",
              "      <td>1.0</td>\n",
              "    </tr>\n",
              "    <tr>\n",
              "      <th>1257</th>\n",
              "      <td>GOOGL</td>\n",
              "      <td>2023-01-12 00:00:00+00:00</td>\n",
              "      <td>91.13</td>\n",
              "      <td>91.87</td>\n",
              "      <td>89.7500</td>\n",
              "      <td>91.48</td>\n",
              "      <td>30258135</td>\n",
              "      <td>91.13</td>\n",
              "      <td>91.87</td>\n",
              "      <td>89.7500</td>\n",
              "      <td>91.48</td>\n",
              "      <td>30258135</td>\n",
              "      <td>0.0</td>\n",
              "      <td>1.0</td>\n",
              "    </tr>\n",
              "    <tr>\n",
              "      <th>1258</th>\n",
              "      <td>GOOGL</td>\n",
              "      <td>2023-01-13 00:00:00+00:00</td>\n",
              "      <td>92.12</td>\n",
              "      <td>92.19</td>\n",
              "      <td>90.1299</td>\n",
              "      <td>90.85</td>\n",
              "      <td>26329212</td>\n",
              "      <td>92.12</td>\n",
              "      <td>92.19</td>\n",
              "      <td>90.1299</td>\n",
              "      <td>90.85</td>\n",
              "      <td>26329212</td>\n",
              "      <td>0.0</td>\n",
              "      <td>1.0</td>\n",
              "    </tr>\n",
              "  </tbody>\n",
              "</table>\n",
              "</div>\n",
              "      <button class=\"colab-df-convert\" onclick=\"convertToInteractive('df-8b6c822e-9a15-4ac4-acc9-d80c671ae2aa')\"\n",
              "              title=\"Convert this dataframe to an interactive table.\"\n",
              "              style=\"display:none;\">\n",
              "        \n",
              "  <svg xmlns=\"http://www.w3.org/2000/svg\" height=\"24px\"viewBox=\"0 0 24 24\"\n",
              "       width=\"24px\">\n",
              "    <path d=\"M0 0h24v24H0V0z\" fill=\"none\"/>\n",
              "    <path d=\"M18.56 5.44l.94 2.06.94-2.06 2.06-.94-2.06-.94-.94-2.06-.94 2.06-2.06.94zm-11 1L8.5 8.5l.94-2.06 2.06-.94-2.06-.94L8.5 2.5l-.94 2.06-2.06.94zm10 10l.94 2.06.94-2.06 2.06-.94-2.06-.94-.94-2.06-.94 2.06-2.06.94z\"/><path d=\"M17.41 7.96l-1.37-1.37c-.4-.4-.92-.59-1.43-.59-.52 0-1.04.2-1.43.59L10.3 9.45l-7.72 7.72c-.78.78-.78 2.05 0 2.83L4 21.41c.39.39.9.59 1.41.59.51 0 1.02-.2 1.41-.59l7.78-7.78 2.81-2.81c.8-.78.8-2.07 0-2.86zM5.41 20L4 18.59l7.72-7.72 1.47 1.35L5.41 20z\"/>\n",
              "  </svg>\n",
              "      </button>\n",
              "      \n",
              "  <style>\n",
              "    .colab-df-container {\n",
              "      display:flex;\n",
              "      flex-wrap:wrap;\n",
              "      gap: 12px;\n",
              "    }\n",
              "\n",
              "    .colab-df-convert {\n",
              "      background-color: #E8F0FE;\n",
              "      border: none;\n",
              "      border-radius: 50%;\n",
              "      cursor: pointer;\n",
              "      display: none;\n",
              "      fill: #1967D2;\n",
              "      height: 32px;\n",
              "      padding: 0 0 0 0;\n",
              "      width: 32px;\n",
              "    }\n",
              "\n",
              "    .colab-df-convert:hover {\n",
              "      background-color: #E2EBFA;\n",
              "      box-shadow: 0px 1px 2px rgba(60, 64, 67, 0.3), 0px 1px 3px 1px rgba(60, 64, 67, 0.15);\n",
              "      fill: #174EA6;\n",
              "    }\n",
              "\n",
              "    [theme=dark] .colab-df-convert {\n",
              "      background-color: #3B4455;\n",
              "      fill: #D2E3FC;\n",
              "    }\n",
              "\n",
              "    [theme=dark] .colab-df-convert:hover {\n",
              "      background-color: #434B5C;\n",
              "      box-shadow: 0px 1px 3px 1px rgba(0, 0, 0, 0.15);\n",
              "      filter: drop-shadow(0px 1px 2px rgba(0, 0, 0, 0.3));\n",
              "      fill: #FFFFFF;\n",
              "    }\n",
              "  </style>\n",
              "\n",
              "      <script>\n",
              "        const buttonEl =\n",
              "          document.querySelector('#df-8b6c822e-9a15-4ac4-acc9-d80c671ae2aa button.colab-df-convert');\n",
              "        buttonEl.style.display =\n",
              "          google.colab.kernel.accessAllowed ? 'block' : 'none';\n",
              "\n",
              "        async function convertToInteractive(key) {\n",
              "          const element = document.querySelector('#df-8b6c822e-9a15-4ac4-acc9-d80c671ae2aa');\n",
              "          const dataTable =\n",
              "            await google.colab.kernel.invokeFunction('convertToInteractive',\n",
              "                                                     [key], {});\n",
              "          if (!dataTable) return;\n",
              "\n",
              "          const docLinkHtml = 'Like what you see? Visit the ' +\n",
              "            '<a target=\"_blank\" href=https://colab.research.google.com/notebooks/data_table.ipynb>data table notebook</a>'\n",
              "            + ' to learn more about interactive tables.';\n",
              "          element.innerHTML = '';\n",
              "          dataTable['output_type'] = 'display_data';\n",
              "          await google.colab.output.renderOutput(dataTable, element);\n",
              "          const docLink = document.createElement('div');\n",
              "          docLink.innerHTML = docLinkHtml;\n",
              "          element.appendChild(docLink);\n",
              "        }\n",
              "      </script>\n",
              "    </div>\n",
              "  </div>\n",
              "  "
            ],
            "text/plain": [
              "     symbol                       date  close   high      low   open  \\\n",
              "1254  GOOGL  2023-01-09 00:00:00+00:00  88.02  90.05  87.8600  88.36   \n",
              "1255  GOOGL  2023-01-10 00:00:00+00:00  88.42  88.67  85.8300  85.98   \n",
              "1256  GOOGL  2023-01-11 00:00:00+00:00  91.52  91.60  89.0100  89.18   \n",
              "1257  GOOGL  2023-01-12 00:00:00+00:00  91.13  91.87  89.7500  91.48   \n",
              "1258  GOOGL  2023-01-13 00:00:00+00:00  92.12  92.19  90.1299  90.85   \n",
              "\n",
              "        volume  adjClose  adjHigh   adjLow  adjOpen  adjVolume  divCash  \\\n",
              "1254  29003901     88.02    90.05  87.8600    88.36   29003901      0.0   \n",
              "1255  30467755     88.42    88.67  85.8300    85.98   30467755      0.0   \n",
              "1256  26861969     91.52    91.60  89.0100    89.18   26861969      0.0   \n",
              "1257  30258135     91.13    91.87  89.7500    91.48   30258135      0.0   \n",
              "1258  26329212     92.12    92.19  90.1299    90.85   26329212      0.0   \n",
              "\n",
              "      splitFactor  \n",
              "1254          1.0  \n",
              "1255          1.0  \n",
              "1256          1.0  \n",
              "1257          1.0  \n",
              "1258          1.0  "
            ]
          },
          "execution_count": 7,
          "metadata": {},
          "output_type": "execute_result"
        }
      ],
      "source": [
        "df.tail()"
      ]
    },
    {
      "cell_type": "markdown",
      "metadata": {
        "id": "L1ijukqH9qU6"
      },
      "source": [
        "- We are using the Stock Closing Price (```close```) for Prediciton."
      ]
    },
    {
      "cell_type": "code",
      "execution_count": null,
      "metadata": {
        "id": "POTff5shRZ7G"
      },
      "outputs": [],
      "source": [
        "df1 = df['close']"
      ]
    },
    {
      "cell_type": "code",
      "execution_count": null,
      "metadata": {
        "colab": {
          "base_uri": "https://localhost:8080/",
          "height": 282
        },
        "id": "ncyL7IRoSMr_",
        "outputId": "6ecb848e-a57b-4f37-fb2c-4f6ff30421a8"
      },
      "outputs": [
        {
          "data": {
            "text/plain": [
              "[<matplotlib.lines.Line2D at 0x7fa0488b08e0>]"
            ]
          },
          "execution_count": 9,
          "metadata": {},
          "output_type": "execute_result"
        },
        {
          "data": {
            "image/png": "[encoded data removed]",
            "text/plain": [
              "<Figure size 432x288 with 1 Axes>"
            ]
          },
          "metadata": {
            "needs_background": "light"
          },
          "output_type": "display_data"
        }
      ],
      "source": [
        "import matplotlib.pyplot as plt\n",
        "plt.plot(df1)"
      ]
    },
    {
      "cell_type": "code",
      "execution_count": null,
      "metadata": {
        "id": "O0o3aOmXSYgR"
      },
      "outputs": [],
      "source": [
        "import numpy as np"
      ]
    },
    {
      "cell_type": "markdown",
      "metadata": {
        "id": "K3Hqg13m9-Z1"
      },
      "source": [
        "- Our Closing Stock Price is"
      ]
    },
    {
      "cell_type": "code",
      "execution_count": null,
      "metadata": {
        "colab": {
          "base_uri": "https://localhost:8080/"
        },
        "id": "RMuqAFUqckcn",
        "outputId": "33453d38-3d2b-4216-af2e-4b7e3bb776ad"
      },
      "outputs": [
        {
          "name": "stdout",
          "output_type": "stream",
          "text": [
            "0       1130.70\n",
            "1       1139.10\n",
            "2       1135.97\n",
            "3       1143.50\n",
            "4       1164.16\n",
            "         ...   \n",
            "1254      88.02\n",
            "1255      88.42\n",
            "1256      91.52\n",
            "1257      91.13\n",
            "1258      92.12\n",
            "Name: close, Length: 1259, dtype: float64\n"
          ]
        }
      ],
      "source": [
        "print(df1)"
      ]
    },
    {
      "cell_type": "markdown",
      "metadata": {
        "id": "Jq-wj1We-Dqh"
      },
      "source": [
        "- For Predictons we use ```LSTM``` 's\n",
        "and also since ```LSTM``` 's are sensitive to Data,\n",
        "- We need to Scale our Data before predicitons.\n",
        "- For Now we are using ```MinMaxScaler()```"
      ]
    },
    {
      "cell_type": "code",
      "execution_count": null,
      "metadata": {
        "id": "RCYu9E_aclG9"
      },
      "outputs": [],
      "source": [
        "from sklearn.preprocessing import MinMaxScaler\n",
        "scaler = MinMaxScaler(feature_range=(0, 1))\n",
        "df2 = scaler.fit_transform(np.array(df1).reshape(-1, 1))"
      ]
    },
    {
      "cell_type": "code",
      "execution_count": null,
      "metadata": {
        "colab": {
          "base_uri": "https://localhost:8080/"
        },
        "id": "FW7_6PEMdCit",
        "outputId": "84223c47-dffb-47cd-e16b-6be426382bf5"
      },
      "outputs": [
        {
          "data": {
            "text/plain": [
              "array([[0.35947401],\n",
              "       [0.36235729],\n",
              "       [0.36128293],\n",
              "       ...,\n",
              "       [0.00277688],\n",
              "       [0.00264301],\n",
              "       [0.00298283]])"
            ]
          },
          "execution_count": 13,
          "metadata": {},
          "output_type": "execute_result"
        }
      ],
      "source": [
        "df2"
      ]
    },
    {
      "cell_type": "markdown",
      "metadata": {
        "id": "SY-knkYS-hLX"
      },
      "source": [
        "- Let's Set our Training Data be ```65 %``` of the actual data size and Testing Data be remaining ```35 %``` of the actual data size. "
      ]
    },
    {
      "cell_type": "code",
      "execution_count": null,
      "metadata": {
        "colab": {
          "base_uri": "https://localhost:8080/"
        },
        "id": "qq4PRAD4dDWm",
        "outputId": "ea3faed8-b38c-48ee-e68f-a25091305afe"
      },
      "outputs": [
        {
          "data": {
            "text/plain": [
              "(818, 441)"
            ]
          },
          "execution_count": 14,
          "metadata": {},
          "output_type": "execute_result"
        }
      ],
      "source": [
        "training_size = int(len(df2)*0.65)\n",
        "test_size = len(df2) - training_size\n",
        "training_size, test_size"
      ]
    },
    {
      "cell_type": "code",
      "execution_count": null,
      "metadata": {
        "id": "HWNLyGNVIC23"
      },
      "outputs": [],
      "source": [
        "train_data, test_data = df2[: training_size], df2[training_size: ]"
      ]
    },
    {
      "cell_type": "code",
      "execution_count": null,
      "metadata": {
        "colab": {
          "base_uri": "https://localhost:8080/"
        },
        "id": "-H8fAq8yIKZ7",
        "outputId": "05aa463a-3dac-42ea-a261-68a2af99f542"
      },
      "outputs": [
        {
          "data": {
            "text/plain": [
              "((818, 1), (441, 1))"
            ]
          },
          "execution_count": 16,
          "metadata": {},
          "output_type": "execute_result"
        }
      ],
      "source": [
        "train_data.shape, test_data.shape"
      ]
    },
    {
      "cell_type": "markdown",
      "metadata": {
        "id": "ZJPk4e9gAelV"
      },
      "source": [
        "- After we prepared our data, we need to prepare independent (```X```) and dependent (```Y```) features.\n",
        "- We know that the each (```Y```) is dependent on every (```X```).\n",
        "- Consider the following data, \n",
        "```\n",
        "data = [t1, t2, t3, t4, t5, ...]\n",
        "```"
      ]
    },
    {
      "cell_type": "code",
      "execution_count": null,
      "metadata": {
        "id": "AL55Qf45I7jG"
      },
      "outputs": [],
      "source": [
        "def create_dataset(dataset, time_step=1):\n",
        "    dataX, dataY = [], []\n",
        "    for i in range(len(dataset) - time_step - 1):\n",
        "        a = dataset[i: (i+time_step), 0]\n",
        "        dataX.append(a)\n",
        "        dataY.append(dataset[i+time_step][0])\n",
        "    return np.array(dataX), np.array(dataY)"
      ]
    },
    {
      "cell_type": "markdown",
      "metadata": {
        "id": "6SMZPqRuBWau"
      },
      "source": [
        "- Each Time step t<sub>i</sub> depends on t<sub>i-1</sub> Time step.\n",
        "- We Create our Data for predicitons based on the following example:\n",
        "- ```X1, X2, X3 -> X4 (Y1)```\n",
        "- ```X2, X3, X4 -> X5 (Y2)```\n",
        "and so on..."
      ]
    },
    {
      "cell_type": "code",
      "execution_count": null,
      "metadata": {
        "id": "keRnXEwgKgZk"
      },
      "outputs": [],
      "source": [
        "time_step = 100\n",
        "x_train, y_train = create_dataset(train_data, time_step)\n",
        "x_test, y_test = create_dataset(test_data, time_step)"
      ]
    },
    {
      "cell_type": "code",
      "execution_count": null,
      "metadata": {
        "colab": {
          "base_uri": "https://localhost:8080/"
        },
        "id": "l-KicDH0K26U",
        "outputId": "bf7c90b1-218a-4638-91b0-8135a9761a30"
      },
      "outputs": [
        {
          "data": {
            "text/plain": [
              "((717, 100), (717,), (340, 100), (340,))"
            ]
          },
          "execution_count": 19,
          "metadata": {},
          "output_type": "execute_result"
        }
      ],
      "source": [
        "x_train.shape, y_train.shape, x_test.shape, y_test.shape"
      ]
    },
    {
      "cell_type": "code",
      "execution_count": null,
      "metadata": {
        "id": "Or3hmb6EK7ma"
      },
      "outputs": [],
      "source": [
        "X_train, X_test = x_train.reshape(x_train.shape[0], x_train.shape[1], 1), x_test.reshape(x_test.shape[0], x_test.shape[1], 1)"
      ]
    },
    {
      "cell_type": "code",
      "execution_count": null,
      "metadata": {
        "id": "EEHsjhtAUHI7"
      },
      "outputs": [],
      "source": [
        "from tensorflow.keras.models import Sequential\n",
        "from tensorflow.keras.layers import Dense\n",
        "from tensorflow.keras.layers import LSTM"
      ]
    },
    {
      "cell_type": "markdown",
      "metadata": {
        "id": "EIcUb1A2CyqW"
      },
      "source": [
        "- We are using a ```Stacked LSTM``` as our Model"
      ]
    },
    {
      "cell_type": "code",
      "execution_count": null,
      "metadata": {
        "id": "pH278tmXUJ54"
      },
      "outputs": [],
      "source": [
        "model = Sequential()\n",
        "model.add(LSTM(50, return_sequences=True, input_shape=(time_step, 1)))\n",
        "model.add(LSTM(50, return_sequences=True))\n",
        "model.add(LSTM(50))\n",
        "model.add(Dense(1))\n",
        "model.compile('adam', 'mse')"
      ]
    },
    {
      "cell_type": "markdown",
      "metadata": {
        "id": "T7Ml4-l6DMoq"
      },
      "source": [
        "- Model Structure"
      ]
    },
    {
      "cell_type": "code",
      "execution_count": null,
      "metadata": {
        "colab": {
          "base_uri": "https://localhost:8080/"
        },
        "id": "3IbIleoKUvsi",
        "outputId": "c488e4c3-55da-40f7-ec52-a7fcb72d2cff"
      },
      "outputs": [
        {
          "name": "stdout",
          "output_type": "stream",
          "text": [
            "Model: \"sequential\"\n",
            "_________________________________________________________________\n",
            " Layer (type)                Output Shape              Param #   \n",
            "=================================================================\n",
            " lstm (LSTM)                 (None, 100, 50)           10400     \n",
            "                                                                 \n",
            " lstm_1 (LSTM)               (None, 100, 50)           20200     \n",
            "                                                                 \n",
            " lstm_2 (LSTM)               (None, 50)                20200     \n",
            "                                                                 \n",
            " dense (Dense)               (None, 1)                 51        \n",
            "                                                                 \n",
            "=================================================================\n",
            "Total params: 50,851\n",
            "Trainable params: 50,851\n",
            "Non-trainable params: 0\n",
            "_________________________________________________________________\n"
          ]
        }
      ],
      "source": [
        "model.summary()"
      ]
    },
    {
      "cell_type": "markdown",
      "metadata": {
        "id": "0UTevvfPDIvx"
      },
      "source": [
        "- Fit our Training Data with ```batch size = 64``` and ```epochs = 100```"
      ]
    },
    {
      "cell_type": "code",
      "execution_count": null,
      "metadata": {
        "colab": {
          "base_uri": "https://localhost:8080/"
        },
        "id": "wJN2AnnQU2Mz",
        "outputId": "c8370797-a30b-4a05-ca63-cb0da493afb7"
      },
      "outputs": [
        {
          "name": "stdout",
          "output_type": "stream",
          "text": [
            "Epoch 1/100\n",
            "12/12 [==============================] - 16s 113ms/step - loss: 0.0467 - val_loss: 0.0741\n",
            "Epoch 2/100\n",
            "12/12 [==============================] - 0s 24ms/step - loss: 0.0073 - val_loss: 0.0328\n",
            "Epoch 3/100\n",
            "12/12 [==============================] - 0s 19ms/step - loss: 0.0027 - val_loss: 0.0392\n",
            "Epoch 4/100\n",
            "12/12 [==============================] - 0s 19ms/step - loss: 0.0019 - val_loss: 0.0336\n",
            "Epoch 5/100\n",
            "12/12 [==============================] - 0s 19ms/step - loss: 0.0015 - val_loss: 0.0257\n",
            "Epoch 6/100\n",
            "12/12 [==============================] - 0s 18ms/step - loss: 0.0012 - val_loss: 0.0210\n",
            "Epoch 7/100\n",
            "12/12 [==============================] - 0s 18ms/step - loss: 9.2440e-04 - val_loss: 0.0181\n",
            "Epoch 8/100\n",
            "12/12 [==============================] - 0s 18ms/step - loss: 7.4905e-04 - val_loss: 0.0169\n",
            "Epoch 9/100\n",
            "12/12 [==============================] - 0s 18ms/step - loss: 6.4081e-04 - val_loss: 0.0169\n",
            "Epoch 10/100\n",
            "12/12 [==============================] - 0s 18ms/step - loss: 6.0294e-04 - val_loss: 0.0178\n",
            "Epoch 11/100\n",
            "12/12 [==============================] - 0s 19ms/step - loss: 5.7260e-04 - val_loss: 0.0176\n",
            "Epoch 12/100\n",
            "12/12 [==============================] - 0s 18ms/step - loss: 5.8304e-04 - val_loss: 0.0201\n",
            "Epoch 13/100\n",
            "12/12 [==============================] - 0s 18ms/step - loss: 5.9706e-04 - val_loss: 0.0179\n",
            "Epoch 14/100\n",
            "12/12 [==============================] - 0s 18ms/step - loss: 5.5963e-04 - val_loss: 0.0173\n",
            "Epoch 15/100\n",
            "12/12 [==============================] - 0s 18ms/step - loss: 5.6226e-04 - val_loss: 0.0169\n",
            "Epoch 16/100\n",
            "12/12 [==============================] - 0s 18ms/step - loss: 5.6799e-04 - val_loss: 0.0177\n",
            "Epoch 17/100\n",
            "12/12 [==============================] - 0s 19ms/step - loss: 5.6679e-04 - val_loss: 0.0178\n",
            "Epoch 18/100\n",
            "12/12 [==============================] - 0s 19ms/step - loss: 5.9106e-04 - val_loss: 0.0160\n",
            "Epoch 19/100\n",
            "12/12 [==============================] - 0s 18ms/step - loss: 6.3132e-04 - val_loss: 0.0211\n",
            "Epoch 20/100\n",
            "12/12 [==============================] - 0s 18ms/step - loss: 6.9848e-04 - val_loss: 0.0162\n",
            "Epoch 21/100\n",
            "12/12 [==============================] - 0s 18ms/step - loss: 5.4165e-04 - val_loss: 0.0165\n",
            "Epoch 22/100\n",
            "12/12 [==============================] - 0s 19ms/step - loss: 5.4634e-04 - val_loss: 0.0201\n",
            "Epoch 23/100\n",
            "12/12 [==============================] - 0s 18ms/step - loss: 5.8230e-04 - val_loss: 0.0182\n",
            "Epoch 24/100\n",
            "12/12 [==============================] - 0s 19ms/step - loss: 5.3290e-04 - val_loss: 0.0168\n",
            "Epoch 25/100\n",
            "12/12 [==============================] - 0s 18ms/step - loss: 5.1364e-04 - val_loss: 0.0156\n",
            "Epoch 26/100\n",
            "12/12 [==============================] - 0s 19ms/step - loss: 5.3092e-04 - val_loss: 0.0156\n",
            "Epoch 27/100\n",
            "12/12 [==============================] - 0s 18ms/step - loss: 5.3120e-04 - val_loss: 0.0170\n",
            "Epoch 28/100\n",
            "12/12 [==============================] - 0s 18ms/step - loss: 5.0479e-04 - val_loss: 0.0168\n",
            "Epoch 29/100\n",
            "12/12 [==============================] - 0s 18ms/step - loss: 5.1105e-04 - val_loss: 0.0156\n",
            "Epoch 30/100\n",
            "12/12 [==============================] - 0s 18ms/step - loss: 4.9704e-04 - val_loss: 0.0169\n",
            "Epoch 31/100\n",
            "12/12 [==============================] - 0s 19ms/step - loss: 5.0849e-04 - val_loss: 0.0139\n",
            "Epoch 32/100\n",
            "12/12 [==============================] - 0s 18ms/step - loss: 5.1062e-04 - val_loss: 0.0171\n",
            "Epoch 33/100\n",
            "12/12 [==============================] - 0s 18ms/step - loss: 5.6612e-04 - val_loss: 0.0132\n",
            "Epoch 34/100\n",
            "12/12 [==============================] - 0s 18ms/step - loss: 5.6608e-04 - val_loss: 0.0151\n",
            "Epoch 35/100\n",
            "12/12 [==============================] - 0s 20ms/step - loss: 4.7088e-04 - val_loss: 0.0146\n",
            "Epoch 36/100\n",
            "12/12 [==============================] - 0s 19ms/step - loss: 4.6266e-04 - val_loss: 0.0132\n",
            "Epoch 37/100\n",
            "12/12 [==============================] - 0s 18ms/step - loss: 5.5137e-04 - val_loss: 0.0166\n",
            "Epoch 38/100\n",
            "12/12 [==============================] - 0s 18ms/step - loss: 4.7574e-04 - val_loss: 0.0145\n",
            "Epoch 39/100\n",
            "12/12 [==============================] - 0s 18ms/step - loss: 4.9767e-04 - val_loss: 0.0139\n",
            "Epoch 40/100\n",
            "12/12 [==============================] - 0s 22ms/step - loss: 4.4734e-04 - val_loss: 0.0140\n",
            "Epoch 41/100\n",
            "12/12 [==============================] - 0s 20ms/step - loss: 4.6932e-04 - val_loss: 0.0159\n",
            "Epoch 42/100\n",
            "12/12 [==============================] - 0s 21ms/step - loss: 4.4892e-04 - val_loss: 0.0144\n",
            "Epoch 43/100\n",
            "12/12 [==============================] - 0s 20ms/step - loss: 4.2453e-04 - val_loss: 0.0152\n",
            "Epoch 44/100\n",
            "12/12 [==============================] - 0s 22ms/step - loss: 4.4016e-04 - val_loss: 0.0140\n",
            "Epoch 45/100\n",
            "12/12 [==============================] - 0s 20ms/step - loss: 4.6708e-04 - val_loss: 0.0128\n",
            "Epoch 46/100\n",
            "12/12 [==============================] - 0s 19ms/step - loss: 4.0783e-04 - val_loss: 0.0140\n",
            "Epoch 47/100\n",
            "12/12 [==============================] - 0s 19ms/step - loss: 4.3494e-04 - val_loss: 0.0129\n",
            "Epoch 48/100\n",
            "12/12 [==============================] - 0s 19ms/step - loss: 4.4666e-04 - val_loss: 0.0124\n",
            "Epoch 49/100\n",
            "12/12 [==============================] - 0s 20ms/step - loss: 4.2447e-04 - val_loss: 0.0119\n",
            "Epoch 50/100\n",
            "12/12 [==============================] - 0s 17ms/step - loss: 4.4769e-04 - val_loss: 0.0138\n",
            "Epoch 51/100\n",
            "12/12 [==============================] - 0s 20ms/step - loss: 4.9603e-04 - val_loss: 0.0142\n",
            "Epoch 52/100\n",
            "12/12 [==============================] - 0s 17ms/step - loss: 4.3152e-04 - val_loss: 0.0107\n",
            "Epoch 53/100\n",
            "12/12 [==============================] - 0s 20ms/step - loss: 4.8804e-04 - val_loss: 0.0103\n",
            "Epoch 54/100\n",
            "12/12 [==============================] - 0s 18ms/step - loss: 5.0179e-04 - val_loss: 0.0127\n",
            "Epoch 55/100\n",
            "12/12 [==============================] - 0s 21ms/step - loss: 4.0272e-04 - val_loss: 0.0124\n",
            "Epoch 56/100\n",
            "12/12 [==============================] - 0s 20ms/step - loss: 3.7266e-04 - val_loss: 0.0112\n",
            "Epoch 57/100\n",
            "12/12 [==============================] - 0s 18ms/step - loss: 3.7969e-04 - val_loss: 0.0116\n",
            "Epoch 58/100\n",
            "12/12 [==============================] - 0s 21ms/step - loss: 3.6475e-04 - val_loss: 0.0107\n",
            "Epoch 59/100\n",
            "12/12 [==============================] - 0s 18ms/step - loss: 3.7067e-04 - val_loss: 0.0113\n",
            "Epoch 60/100\n",
            "12/12 [==============================] - 0s 18ms/step - loss: 3.4330e-04 - val_loss: 0.0115\n",
            "Epoch 61/100\n",
            "12/12 [==============================] - 0s 19ms/step - loss: 3.4737e-04 - val_loss: 0.0121\n",
            "Epoch 62/100\n",
            "12/12 [==============================] - 0s 19ms/step - loss: 3.4002e-04 - val_loss: 0.0104\n",
            "Epoch 63/100\n",
            "12/12 [==============================] - 0s 21ms/step - loss: 3.3742e-04 - val_loss: 0.0110\n",
            "Epoch 64/100\n",
            "12/12 [==============================] - 0s 18ms/step - loss: 3.4173e-04 - val_loss: 0.0110\n",
            "Epoch 65/100\n",
            "12/12 [==============================] - 0s 18ms/step - loss: 3.5309e-04 - val_loss: 0.0094\n",
            "Epoch 66/100\n",
            "12/12 [==============================] - 0s 19ms/step - loss: 3.3254e-04 - val_loss: 0.0094\n",
            "Epoch 67/100\n",
            "12/12 [==============================] - 0s 20ms/step - loss: 3.4290e-04 - val_loss: 0.0111\n",
            "Epoch 68/100\n",
            "12/12 [==============================] - 0s 18ms/step - loss: 3.4327e-04 - val_loss: 0.0131\n",
            "Epoch 69/100\n",
            "12/12 [==============================] - 0s 19ms/step - loss: 3.7764e-04 - val_loss: 0.0090\n",
            "Epoch 70/100\n",
            "12/12 [==============================] - 0s 19ms/step - loss: 3.5362e-04 - val_loss: 0.0087\n",
            "Epoch 71/100\n",
            "12/12 [==============================] - 0s 21ms/step - loss: 3.1736e-04 - val_loss: 0.0090\n",
            "Epoch 72/100\n",
            "12/12 [==============================] - 0s 18ms/step - loss: 3.0530e-04 - val_loss: 0.0096\n",
            "Epoch 73/100\n",
            "12/12 [==============================] - 0s 18ms/step - loss: 2.9737e-04 - val_loss: 0.0110\n",
            "Epoch 74/100\n",
            "12/12 [==============================] - 0s 18ms/step - loss: 3.2821e-04 - val_loss: 0.0089\n",
            "Epoch 75/100\n",
            "12/12 [==============================] - 0s 19ms/step - loss: 2.9036e-04 - val_loss: 0.0087\n",
            "Epoch 76/100\n",
            "12/12 [==============================] - 0s 18ms/step - loss: 2.8855e-04 - val_loss: 0.0099\n",
            "Epoch 77/100\n",
            "12/12 [==============================] - 0s 19ms/step - loss: 2.9723e-04 - val_loss: 0.0092\n",
            "Epoch 78/100\n",
            "12/12 [==============================] - 0s 18ms/step - loss: 2.7123e-04 - val_loss: 0.0095\n",
            "Epoch 79/100\n",
            "12/12 [==============================] - 0s 19ms/step - loss: 2.6474e-04 - val_loss: 0.0094\n",
            "Epoch 80/100\n",
            "12/12 [==============================] - 0s 21ms/step - loss: 2.6316e-04 - val_loss: 0.0087\n",
            "Epoch 81/100\n",
            "12/12 [==============================] - 0s 19ms/step - loss: 2.6789e-04 - val_loss: 0.0092\n",
            "Epoch 82/100\n",
            "12/12 [==============================] - 0s 20ms/step - loss: 2.6949e-04 - val_loss: 0.0095\n",
            "Epoch 83/100\n",
            "12/12 [==============================] - 0s 19ms/step - loss: 3.0701e-04 - val_loss: 0.0098\n",
            "Epoch 84/100\n",
            "12/12 [==============================] - 0s 19ms/step - loss: 2.9025e-04 - val_loss: 0.0102\n",
            "Epoch 85/100\n",
            "12/12 [==============================] - 0s 18ms/step - loss: 2.8886e-04 - val_loss: 0.0083\n",
            "Epoch 86/100\n",
            "12/12 [==============================] - 0s 19ms/step - loss: 2.5275e-04 - val_loss: 0.0099\n",
            "Epoch 87/100\n",
            "12/12 [==============================] - 0s 18ms/step - loss: 3.0255e-04 - val_loss: 0.0111\n",
            "Epoch 88/100\n",
            "12/12 [==============================] - 0s 18ms/step - loss: 2.6102e-04 - val_loss: 0.0093\n",
            "Epoch 89/100\n",
            "12/12 [==============================] - 0s 19ms/step - loss: 2.4259e-04 - val_loss: 0.0089\n",
            "Epoch 90/100\n",
            "12/12 [==============================] - 0s 18ms/step - loss: 2.5298e-04 - val_loss: 0.0097\n",
            "Epoch 91/100\n",
            "12/12 [==============================] - 0s 18ms/step - loss: 2.6496e-04 - val_loss: 0.0100\n",
            "Epoch 92/100\n",
            "12/12 [==============================] - 0s 18ms/step - loss: 2.5209e-04 - val_loss: 0.0093\n",
            "Epoch 93/100\n",
            "12/12 [==============================] - 0s 18ms/step - loss: 2.6398e-04 - val_loss: 0.0101\n",
            "Epoch 94/100\n",
            "12/12 [==============================] - 0s 18ms/step - loss: 2.5591e-04 - val_loss: 0.0093\n",
            "Epoch 95/100\n",
            "12/12 [==============================] - 0s 19ms/step - loss: 2.5916e-04 - val_loss: 0.0079\n",
            "Epoch 96/100\n",
            "12/12 [==============================] - 0s 18ms/step - loss: 2.7176e-04 - val_loss: 0.0093\n",
            "Epoch 97/100\n",
            "12/12 [==============================] - 0s 19ms/step - loss: 3.1335e-04 - val_loss: 0.0090\n",
            "Epoch 98/100\n",
            "12/12 [==============================] - 0s 20ms/step - loss: 2.5880e-04 - val_loss: 0.0092\n",
            "Epoch 99/100\n",
            "12/12 [==============================] - 0s 19ms/step - loss: 2.4360e-04 - val_loss: 0.0093\n",
            "Epoch 100/100\n",
            "12/12 [==============================] - 0s 18ms/step - loss: 2.4922e-04 - val_loss: 0.0076\n"
          ]
        },
        {
          "data": {
            "text/plain": [
              "<keras.callbacks.History at 0x7f9fe02d49a0>"
            ]
          },
          "execution_count": 24,
          "metadata": {},
          "output_type": "execute_result"
        }
      ],
      "source": [
        "model.fit(X_train,y_train,validation_data=(X_test,y_test),epochs=100,batch_size=64,verbose=1)"
      ]
    },
    {
      "cell_type": "markdown",
      "metadata": {
        "id": "5mIfHTKwDZxQ"
      },
      "source": [
        "- Let's predict our ```train``` and ```test``` data"
      ]
    },
    {
      "cell_type": "code",
      "execution_count": null,
      "metadata": {
        "colab": {
          "base_uri": "https://localhost:8080/"
        },
        "id": "64frP3vaWI92",
        "outputId": "4da60d76-71d1-4421-8b0e-28a29fb6285f"
      },
      "outputs": [
        {
          "name": "stdout",
          "output_type": "stream",
          "text": [
            "23/23 [==============================] - 1s 6ms/step\n",
            "11/11 [==============================] - 0s 7ms/step\n"
          ]
        }
      ],
      "source": [
        "train_predict=model.predict(X_train)\n",
        "test_predict=model.predict(X_test)"
      ]
    },
    {
      "cell_type": "markdown",
      "metadata": {
        "id": "FpAJy0PADhMb"
      },
      "source": [
        "- Let's Inverse the Scaled data using ```inverse_transform()``` from the ```scaler``` object"
      ]
    },
    {
      "cell_type": "code",
      "execution_count": null,
      "metadata": {
        "id": "AJZvFOGGWKvB"
      },
      "outputs": [],
      "source": [
        "train_predict=scaler.inverse_transform(train_predict)\n",
        "test_predict=scaler.inverse_transform(test_predict)"
      ]
    },
    {
      "cell_type": "markdown",
      "metadata": {
        "id": "7UYwm8YjDxwW"
      },
      "source": [
        "- Compute the ```RMSE``` Score"
      ]
    },
    {
      "cell_type": "code",
      "execution_count": null,
      "metadata": {
        "colab": {
          "base_uri": "https://localhost:8080/"
        },
        "id": "8iM69QLAWNpU",
        "outputId": "0adc8f52-fbe6-49a9-a845-4b265bd9de5c"
      },
      "outputs": [
        {
          "data": {
            "text/plain": [
              "(1372.6112543315571, 2189.4545463168693)"
            ]
          },
          "execution_count": 28,
          "metadata": {},
          "output_type": "execute_result"
        }
      ],
      "source": [
        "from sklearn.metrics import mean_squared_error\n",
        "mean_squared_error(y_train, train_predict, squared=False), mean_squared_error(y_test, test_predict, squared=False)"
      ]
    },
    {
      "cell_type": "markdown",
      "metadata": {
        "id": "LSgd6TvFD4Yh"
      },
      "source": [
        "- Let's Visulaize our Predictions along side with the Actual Data"
      ]
    },
    {
      "cell_type": "code",
      "execution_count": null,
      "metadata": {
        "colab": {
          "base_uri": "https://localhost:8080/",
          "height": 265
        },
        "id": "Z9x5A1lbWuCT",
        "outputId": "e4377a6c-b13a-4d7f-f17f-11a957486779"
      },
      "outputs": [
        {
          "data": {
            "image/png": "[encoded data removed]",
            "text/plain": [
              "<Figure size 432x288 with 1 Axes>"
            ]
          },
          "metadata": {
            "needs_background": "light"
          },
          "output_type": "display_data"
        }
      ],
      "source": [
        "look_back=time_step\n",
        "trainPredictPlot = np.empty_like(df2)\n",
        "trainPredictPlot[:, :] = np.nan\n",
        "trainPredictPlot[look_back:len(train_predict)+look_back, :] = train_predict\n",
        "# shift test predictions for plotting\n",
        "testPredictPlot = np.empty_like(df2)\n",
        "testPredictPlot[:, :] = np.nan\n",
        "testPredictPlot[len(train_predict)+(look_back*2)+1:len(df2)-1, :] = test_predict\n",
        "# plot baseline and predictions\n",
        "plt.plot(scaler.inverse_transform(df2))\n",
        "plt.plot(trainPredictPlot)\n",
        "plt.plot(testPredictPlot)\n",
        "plt.show()"
      ]
    },
    {
      "cell_type": "markdown",
      "metadata": {
        "id": "BsjpLLuPEBjH"
      },
      "source": [
        "- See the Predicted and Actual Data are Nearly Equal"
      ]
    },
    {
      "cell_type": "code",
      "execution_count": null,
      "metadata": {
        "colab": {
          "base_uri": "https://localhost:8080/"
        },
        "id": "EHhG8N0qY_Kl",
        "outputId": "ead703b8-3c03-4773-9a62-48103305201f"
      },
      "outputs": [
        {
          "data": {
            "text/plain": [
              "441"
            ]
          },
          "execution_count": 30,
          "metadata": {},
          "output_type": "execute_result"
        }
      ],
      "source": [
        "len(test_data)"
      ]
    },
    {
      "cell_type": "markdown",
      "metadata": {
        "id": "Nywx--d2EJtk"
      },
      "source": [
        "- Now Let's Predict the Future 30 Days Data\n",
        "- Let's take last 100 Days Data for our future 30 days prediction."
      ]
    },
    {
      "cell_type": "code",
      "execution_count": null,
      "metadata": {
        "colab": {
          "base_uri": "https://localhost:8080/"
        },
        "id": "TxKxoqU9aBMD",
        "outputId": "f695d7b3-b2c9-43dd-e3a1-b83f9b02d22d"
      },
      "outputs": [
        {
          "data": {
            "text/plain": [
              "(1, 100)"
            ]
          },
          "execution_count": 31,
          "metadata": {},
          "output_type": "execute_result"
        }
      ],
      "source": [
        "x_input = test_data[341:].reshape(1, -1)\n",
        "x_input.shape"
      ]
    },
    {
      "cell_type": "code",
      "execution_count": null,
      "metadata": {
        "id": "sGOaD5exaybv"
      },
      "outputs": [],
      "source": [
        "temp_input=list(x_input)\n",
        "temp_input=temp_input[0].tolist()"
      ]
    },
    {
      "cell_type": "code",
      "execution_count": null,
      "metadata": {
        "colab": {
          "base_uri": "https://localhost:8080/"
        },
        "id": "WZpzRmH1anfu",
        "outputId": "9b61fa56-a5d0-4e58-86f7-75858fefe727"
      },
      "outputs": [
        {
          "data": {
            "text/plain": [
              "[0.010445056189802765,\n",
              " 0.010386703920585993,\n",
              " 0.011402719902242786,\n",
              " 0.009236820968373069,\n",
              " 0.008921032217317576,\n",
              " 0.008756272868940804,\n",
              " 0.008509133846375638,\n",
              " 0.009030871782902093,\n",
              " 0.008382131848668532,\n",
              " 0.008025153260518857,\n",
              " 0.008931329676591125,\n",
              " 0.008564053629167893,\n",
              " 0.00934322804753307,\n",
              " 0.009415310262447907,\n",
              " 0.00717046414081432,\n",
              " 0.00740387321768142,\n",
              " 0.006686483554957538,\n",
              " 0.006648726204287858,\n",
              " 0.006741403337749793,\n",
              " 0.006078933457818174,\n",
              " 0.005440490982858162,\n",
              " 0.005735684815366557,\n",
              " 0.005255136715934285,\n",
              " 0.005059484989736865,\n",
              " 0.004829508399294281,\n",
              " 0.005704792437545909,\n",
              " 0.00480204850789815,\n",
              " 0.004194498410758786,\n",
              " 0.005220811851689128,\n",
              " 0.006250557779043979,\n",
              " 0.006178475564129142,\n",
              " 0.006175043077704626,\n",
              " 0.005234541797387193,\n",
              " 0.004953077910576864,\n",
              " 0.004719668833709764,\n",
              " 0.00485010331784138,\n",
              " 0.005364976281518809,\n",
              " 0.004506854675389756,\n",
              " 0.005677332546149778,\n",
              " 0.005951931460111075,\n",
              " 0.0055606280077162284,\n",
              " 0.005677332546149778,\n",
              " 0.0060755009713936575,\n",
              " 0.006552616584401406,\n",
              " 0.007225383923606582,\n",
              " 0.003947359388193621,\n",
              " 0.0030171555671497305,\n",
              " 0.00441417754192782,\n",
              " 0.0038031949583639396,\n",
              " 0.0024164704428593954,\n",
              " 0.0012151001942787287,\n",
              " 0.0,\n",
              " 0.001081233223722597,\n",
              " 0.0017368381308051906,\n",
              " 0.0018775700742103586,\n",
              " 0.001335237219136795,\n",
              " 0.003607543232166513,\n",
              " 0.00445536737902201,\n",
              " 0.004211660842881368,\n",
              " 0.0051521621231988,\n",
              " 0.005292894066603965,\n",
              " 0.005124702231802669,\n",
              " 0.004805480994322667,\n",
              " 0.004177335978636204,\n",
              " 0.004675046510191051,\n",
              " 0.005159027096047833,\n",
              " 0.004815778453596209,\n",
              " 0.004331797867739427,\n",
              " 0.0040366040352310395,\n",
              " 0.006027446161450428,\n",
              " 0.006027446161450428,\n",
              " 0.005838659408102041,\n",
              " 0.00550914071134849,\n",
              " 0.004651019105219437,\n",
              " 0.003950791874618137,\n",
              " 0.003528596044402643,\n",
              " 0.0032265372390452157,\n",
              " 0.003391296587421995,\n",
              " 0.004187633437909753,\n",
              " 0.003995414198136843,\n",
              " 0.0025503374134155272,\n",
              " 0.0023443882279445584,\n",
              " 0.0017196756986826087,\n",
              " 0.0019187599113045482,\n",
              " 0.002110979151077455,\n",
              " 0.0014862666218155123,\n",
              " 0.001990842126219392,\n",
              " 0.0013592646241084097,\n",
              " 0.0008890139839496901,\n",
              " 0.0017231081851071285,\n",
              " 0.0016475934837677716,\n",
              " 0.001953084775549712,\n",
              " 0.001596106187400026,\n",
              " 0.0009507987395909849,\n",
              " 0.0013421021919858313,\n",
              " 0.0015755112688529277,\n",
              " 0.0017128107258335794,\n",
              " 0.002776881517433598,\n",
              " 0.002643014546877466,\n",
              " 0.0029828307029045667]"
            ]
          },
          "execution_count": 33,
          "metadata": {},
          "output_type": "execute_result"
        }
      ],
      "source": [
        "temp_input"
      ]
    },
    {
      "cell_type": "markdown",
      "metadata": {
        "id": "WNq2q5LVEbp9"
      },
      "source": [
        "- Now let's predict the Data for Future 30 days"
      ]
    },
    {
      "cell_type": "code",
      "execution_count": null,
      "metadata": {
        "colab": {
          "base_uri": "https://localhost:8080/"
        },
        "id": "ZnPHPVoDbGBk",
        "outputId": "91018316-b4bb-4f00-ac3e-2285adfab43a"
      },
      "outputs": [
        {
          "name": "stdout",
          "output_type": "stream",
          "text": [
            "[0.03986782]\n",
            "101\n",
            "day-2 input: \n",
            "[0.0103867  0.01140272 0.00923682 0.00892103 0.00875627 0.00850913\n",
            " 0.00903087 0.00838213 0.00802515 0.00893133 0.00856405 0.00934323\n",
            " 0.00941531 0.00717046 0.00740387 0.00668648 0.00664873 0.0067414\n",
            " 0.00607893 0.00544049 0.00573568 0.00525514 0.00505948 0.00482951\n",
            " 0.00570479 0.00480205 0.0041945  0.00522081 0.00625056 0.00617848\n",
            " 0.00617504 0.00523454 0.00495308 0.00471967 0.0048501  0.00536498\n",
            " 0.00450685 0.00567733 0.00595193 0.00556063 0.00567733 0.0060755\n",
            " 0.00655262 0.00722538 0.00394736 0.00301716 0.00441418 0.00380319\n",
            " 0.00241647 0.0012151  0.         0.00108123 0.00173684 0.00187757\n",
            " 0.00133524 0.00360754 0.00445537 0.00421166 0.00515216 0.00529289\n",
            " 0.0051247  0.00480548 0.00417734 0.00467505 0.00515903 0.00481578\n",
            " 0.0043318  0.0040366  0.00602745 0.00602745 0.00583866 0.00550914\n",
            " 0.00465102 0.00395079 0.0035286  0.00322654 0.0033913  0.00418763\n",
            " 0.00399541 0.00255034 0.00234439 0.00171968 0.00191876 0.00211098\n",
            " 0.00148627 0.00199084 0.00135926 0.00088901 0.00172311 0.00164759\n",
            " 0.00195308 0.00159611 0.0009508  0.0013421  0.00157551 0.00171281\n",
            " 0.00277688 0.00264301 0.00298283 0.03986782]\n",
            "day-2 output: \n",
            "[[0.04078509]]\n",
            "day-3 input: \n",
            "[0.01140272 0.00923682 0.00892103 0.00875627 0.00850913 0.00903087\n",
            " 0.00838213 0.00802515 0.00893133 0.00856405 0.00934323 0.00941531\n",
            " 0.00717046 0.00740387 0.00668648 0.00664873 0.0067414  0.00607893\n",
            " 0.00544049 0.00573568 0.00525514 0.00505948 0.00482951 0.00570479\n",
            " 0.00480205 0.0041945  0.00522081 0.00625056 0.00617848 0.00617504\n",
            " 0.00523454 0.00495308 0.00471967 0.0048501  0.00536498 0.00450685\n",
            " 0.00567733 0.00595193 0.00556063 0.00567733 0.0060755  0.00655262\n",
            " 0.00722538 0.00394736 0.00301716 0.00441418 0.00380319 0.00241647\n",
            " 0.0012151  0.         0.00108123 0.00173684 0.00187757 0.00133524\n",
            " 0.00360754 0.00445537 0.00421166 0.00515216 0.00529289 0.0051247\n",
            " 0.00480548 0.00417734 0.00467505 0.00515903 0.00481578 0.0043318\n",
            " 0.0040366  0.00602745 0.00602745 0.00583866 0.00550914 0.00465102\n",
            " 0.00395079 0.0035286  0.00322654 0.0033913  0.00418763 0.00399541\n",
            " 0.00255034 0.00234439 0.00171968 0.00191876 0.00211098 0.00148627\n",
            " 0.00199084 0.00135926 0.00088901 0.00172311 0.00164759 0.00195308\n",
            " 0.00159611 0.0009508  0.0013421  0.00157551 0.00171281 0.00277688\n",
            " 0.00264301 0.00298283 0.03986782 0.04078509]\n",
            "day-3 output: \n",
            "[[0.04272932]]\n",
            "day-4 input: \n",
            "[0.00923682 0.00892103 0.00875627 0.00850913 0.00903087 0.00838213\n",
            " 0.00802515 0.00893133 0.00856405 0.00934323 0.00941531 0.00717046\n",
            " 0.00740387 0.00668648 0.00664873 0.0067414  0.00607893 0.00544049\n",
            " 0.00573568 0.00525514 0.00505948 0.00482951 0.00570479 0.00480205\n",
            " 0.0041945  0.00522081 0.00625056 0.00617848 0.00617504 0.00523454\n",
            " 0.00495308 0.00471967 0.0048501  0.00536498 0.00450685 0.00567733\n",
            " 0.00595193 0.00556063 0.00567733 0.0060755  0.00655262 0.00722538\n",
            " 0.00394736 0.00301716 0.00441418 0.00380319 0.00241647 0.0012151\n",
            " 0.         0.00108123 0.00173684 0.00187757 0.00133524 0.00360754\n",
            " 0.00445537 0.00421166 0.00515216 0.00529289 0.0051247  0.00480548\n",
            " 0.00417734 0.00467505 0.00515903 0.00481578 0.0043318  0.0040366\n",
            " 0.00602745 0.00602745 0.00583866 0.00550914 0.00465102 0.00395079\n",
            " 0.0035286  0.00322654 0.0033913  0.00418763 0.00399541 0.00255034\n",
            " 0.00234439 0.00171968 0.00191876 0.00211098 0.00148627 0.00199084\n",
            " 0.00135926 0.00088901 0.00172311 0.00164759 0.00195308 0.00159611\n",
            " 0.0009508  0.0013421  0.00157551 0.00171281 0.00277688 0.00264301\n",
            " 0.00298283 0.03986782 0.04078509 0.04272932]\n",
            "day-4 output: \n",
            "[[0.04561193]]\n",
            "day-5 input: \n",
            "[0.00892103 0.00875627 0.00850913 0.00903087 0.00838213 0.00802515\n",
            " 0.00893133 0.00856405 0.00934323 0.00941531 0.00717046 0.00740387\n",
            " 0.00668648 0.00664873 0.0067414  0.00607893 0.00544049 0.00573568\n",
            " 0.00525514 0.00505948 0.00482951 0.00570479 0.00480205 0.0041945\n",
            " 0.00522081 0.00625056 0.00617848 0.00617504 0.00523454 0.00495308\n",
            " 0.00471967 0.0048501  0.00536498 0.00450685 0.00567733 0.00595193\n",
            " 0.00556063 0.00567733 0.0060755  0.00655262 0.00722538 0.00394736\n",
            " 0.00301716 0.00441418 0.00380319 0.00241647 0.0012151  0.\n",
            " 0.00108123 0.00173684 0.00187757 0.00133524 0.00360754 0.00445537\n",
            " 0.00421166 0.00515216 0.00529289 0.0051247  0.00480548 0.00417734\n",
            " 0.00467505 0.00515903 0.00481578 0.0043318  0.0040366  0.00602745\n",
            " 0.00602745 0.00583866 0.00550914 0.00465102 0.00395079 0.0035286\n",
            " 0.00322654 0.0033913  0.00418763 0.00399541 0.00255034 0.00234439\n",
            " 0.00171968 0.00191876 0.00211098 0.00148627 0.00199084 0.00135926\n",
            " 0.00088901 0.00172311 0.00164759 0.00195308 0.00159611 0.0009508\n",
            " 0.0013421  0.00157551 0.00171281 0.00277688 0.00264301 0.00298283\n",
            " 0.03986782 0.04078509 0.04272932 0.04561193]\n",
            "day-5 output: \n",
            "[[0.04922508]]\n",
            "day-6 input: \n",
            "[0.00875627 0.00850913 0.00903087 0.00838213 0.00802515 0.00893133\n",
            " 0.00856405 0.00934323 0.00941531 0.00717046 0.00740387 0.00668648\n",
            " 0.00664873 0.0067414  0.00607893 0.00544049 0.00573568 0.00525514\n",
            " 0.00505948 0.00482951 0.00570479 0.00480205 0.0041945  0.00522081\n",
            " 0.00625056 0.00617848 0.00617504 0.00523454 0.00495308 0.00471967\n",
            " 0.0048501  0.00536498 0.00450685 0.00567733 0.00595193 0.00556063\n",
            " 0.00567733 0.0060755  0.00655262 0.00722538 0.00394736 0.00301716\n",
            " 0.00441418 0.00380319 0.00241647 0.0012151  0.         0.00108123\n",
            " 0.00173684 0.00187757 0.00133524 0.00360754 0.00445537 0.00421166\n",
            " 0.00515216 0.00529289 0.0051247  0.00480548 0.00417734 0.00467505\n",
            " 0.00515903 0.00481578 0.0043318  0.0040366  0.00602745 0.00602745\n",
            " 0.00583866 0.00550914 0.00465102 0.00395079 0.0035286  0.00322654\n",
            " 0.0033913  0.00418763 0.00399541 0.00255034 0.00234439 0.00171968\n",
            " 0.00191876 0.00211098 0.00148627 0.00199084 0.00135926 0.00088901\n",
            " 0.00172311 0.00164759 0.00195308 0.00159611 0.0009508  0.0013421\n",
            " 0.00157551 0.00171281 0.00277688 0.00264301 0.00298283 0.03986782\n",
            " 0.04078509 0.04272932 0.04561193 0.04922508]\n",
            "day-6 output: \n",
            "[[0.05333962]]\n",
            "day-7 input: \n",
            "[0.00850913 0.00903087 0.00838213 0.00802515 0.00893133 0.00856405\n",
            " 0.00934323 0.00941531 0.00717046 0.00740387 0.00668648 0.00664873\n",
            " 0.0067414  0.00607893 0.00544049 0.00573568 0.00525514 0.00505948\n",
            " 0.00482951 0.00570479 0.00480205 0.0041945  0.00522081 0.00625056\n",
            " 0.00617848 0.00617504 0.00523454 0.00495308 0.00471967 0.0048501\n",
            " 0.00536498 0.00450685 0.00567733 0.00595193 0.00556063 0.00567733\n",
            " 0.0060755  0.00655262 0.00722538 0.00394736 0.00301716 0.00441418\n",
            " 0.00380319 0.00241647 0.0012151  0.         0.00108123 0.00173684\n",
            " 0.00187757 0.00133524 0.00360754 0.00445537 0.00421166 0.00515216\n",
            " 0.00529289 0.0051247  0.00480548 0.00417734 0.00467505 0.00515903\n",
            " 0.00481578 0.0043318  0.0040366  0.00602745 0.00602745 0.00583866\n",
            " 0.00550914 0.00465102 0.00395079 0.0035286  0.00322654 0.0033913\n",
            " 0.00418763 0.00399541 0.00255034 0.00234439 0.00171968 0.00191876\n",
            " 0.00211098 0.00148627 0.00199084 0.00135926 0.00088901 0.00172311\n",
            " 0.00164759 0.00195308 0.00159611 0.0009508  0.0013421  0.00157551\n",
            " 0.00171281 0.00277688 0.00264301 0.00298283 0.03986782 0.04078509\n",
            " 0.04272932 0.04561193 0.04922508 0.05333962]\n",
            "day-7 output: \n",
            "[[0.05775269]]\n",
            "day-8 input: \n",
            "[0.00903087 0.00838213 0.00802515 0.00893133 0.00856405 0.00934323\n",
            " 0.00941531 0.00717046 0.00740387 0.00668648 0.00664873 0.0067414\n",
            " 0.00607893 0.00544049 0.00573568 0.00525514 0.00505948 0.00482951\n",
            " 0.00570479 0.00480205 0.0041945  0.00522081 0.00625056 0.00617848\n",
            " 0.00617504 0.00523454 0.00495308 0.00471967 0.0048501  0.00536498\n",
            " 0.00450685 0.00567733 0.00595193 0.00556063 0.00567733 0.0060755\n",
            " 0.00655262 0.00722538 0.00394736 0.00301716 0.00441418 0.00380319\n",
            " 0.00241647 0.0012151  0.         0.00108123 0.00173684 0.00187757\n",
            " 0.00133524 0.00360754 0.00445537 0.00421166 0.00515216 0.00529289\n",
            " 0.0051247  0.00480548 0.00417734 0.00467505 0.00515903 0.00481578\n",
            " 0.0043318  0.0040366  0.00602745 0.00602745 0.00583866 0.00550914\n",
            " 0.00465102 0.00395079 0.0035286  0.00322654 0.0033913  0.00418763\n",
            " 0.00399541 0.00255034 0.00234439 0.00171968 0.00191876 0.00211098\n",
            " 0.00148627 0.00199084 0.00135926 0.00088901 0.00172311 0.00164759\n",
            " 0.00195308 0.00159611 0.0009508  0.0013421  0.00157551 0.00171281\n",
            " 0.00277688 0.00264301 0.00298283 0.03986782 0.04078509 0.04272932\n",
            " 0.04561193 0.04922508 0.05333962 0.05775269]\n",
            "day-8 output: \n",
            "[[0.06230487]]\n",
            "day-9 input: \n",
            "[0.00838213 0.00802515 0.00893133 0.00856405 0.00934323 0.00941531\n",
            " 0.00717046 0.00740387 0.00668648 0.00664873 0.0067414  0.00607893\n",
            " 0.00544049 0.00573568 0.00525514 0.00505948 0.00482951 0.00570479\n",
            " 0.00480205 0.0041945  0.00522081 0.00625056 0.00617848 0.00617504\n",
            " 0.00523454 0.00495308 0.00471967 0.0048501  0.00536498 0.00450685\n",
            " 0.00567733 0.00595193 0.00556063 0.00567733 0.0060755  0.00655262\n",
            " 0.00722538 0.00394736 0.00301716 0.00441418 0.00380319 0.00241647\n",
            " 0.0012151  0.         0.00108123 0.00173684 0.00187757 0.00133524\n",
            " 0.00360754 0.00445537 0.00421166 0.00515216 0.00529289 0.0051247\n",
            " 0.00480548 0.00417734 0.00467505 0.00515903 0.00481578 0.0043318\n",
            " 0.0040366  0.00602745 0.00602745 0.00583866 0.00550914 0.00465102\n",
            " 0.00395079 0.0035286  0.00322654 0.0033913  0.00418763 0.00399541\n",
            " 0.00255034 0.00234439 0.00171968 0.00191876 0.00211098 0.00148627\n",
            " 0.00199084 0.00135926 0.00088901 0.00172311 0.00164759 0.00195308\n",
            " 0.00159611 0.0009508  0.0013421  0.00157551 0.00171281 0.00277688\n",
            " 0.00264301 0.00298283 0.03986782 0.04078509 0.04272932 0.04561193\n",
            " 0.04922508 0.05333962 0.05775269 0.06230487]\n",
            "day-9 output: \n",
            "[[0.06688138]]\n",
            "day-10 input: \n",
            "[0.00802515 0.00893133 0.00856405 0.00934323 0.00941531 0.00717046\n",
            " 0.00740387 0.00668648 0.00664873 0.0067414  0.00607893 0.00544049\n",
            " 0.00573568 0.00525514 0.00505948 0.00482951 0.00570479 0.00480205\n",
            " 0.0041945  0.00522081 0.00625056 0.00617848 0.00617504 0.00523454\n",
            " 0.00495308 0.00471967 0.0048501  0.00536498 0.00450685 0.00567733\n",
            " 0.00595193 0.00556063 0.00567733 0.0060755  0.00655262 0.00722538\n",
            " 0.00394736 0.00301716 0.00441418 0.00380319 0.00241647 0.0012151\n",
            " 0.         0.00108123 0.00173684 0.00187757 0.00133524 0.00360754\n",
            " 0.00445537 0.00421166 0.00515216 0.00529289 0.0051247  0.00480548\n",
            " 0.00417734 0.00467505 0.00515903 0.00481578 0.0043318  0.0040366\n",
            " 0.00602745 0.00602745 0.00583866 0.00550914 0.00465102 0.00395079\n",
            " 0.0035286  0.00322654 0.0033913  0.00418763 0.00399541 0.00255034\n",
            " 0.00234439 0.00171968 0.00191876 0.00211098 0.00148627 0.00199084\n",
            " 0.00135926 0.00088901 0.00172311 0.00164759 0.00195308 0.00159611\n",
            " 0.0009508  0.0013421  0.00157551 0.00171281 0.00277688 0.00264301\n",
            " 0.00298283 0.03986782 0.04078509 0.04272932 0.04561193 0.04922508\n",
            " 0.05333962 0.05775269 0.06230487 0.06688138]\n",
            "day-10 output: \n",
            "[[0.07140562]]\n",
            "day-11 input: \n",
            "[0.00893133 0.00856405 0.00934323 0.00941531 0.00717046 0.00740387\n",
            " 0.00668648 0.00664873 0.0067414  0.00607893 0.00544049 0.00573568\n",
            " 0.00525514 0.00505948 0.00482951 0.00570479 0.00480205 0.0041945\n",
            " 0.00522081 0.00625056 0.00617848 0.00617504 0.00523454 0.00495308\n",
            " 0.00471967 0.0048501  0.00536498 0.00450685 0.00567733 0.00595193\n",
            " 0.00556063 0.00567733 0.0060755  0.00655262 0.00722538 0.00394736\n",
            " 0.00301716 0.00441418 0.00380319 0.00241647 0.0012151  0.\n",
            " 0.00108123 0.00173684 0.00187757 0.00133524 0.00360754 0.00445537\n",
            " 0.00421166 0.00515216 0.00529289 0.0051247  0.00480548 0.00417734\n",
            " 0.00467505 0.00515903 0.00481578 0.0043318  0.0040366  0.00602745\n",
            " 0.00602745 0.00583866 0.00550914 0.00465102 0.00395079 0.0035286\n",
            " 0.00322654 0.0033913  0.00418763 0.00399541 0.00255034 0.00234439\n",
            " 0.00171968 0.00191876 0.00211098 0.00148627 0.00199084 0.00135926\n",
            " 0.00088901 0.00172311 0.00164759 0.00195308 0.00159611 0.0009508\n",
            " 0.0013421  0.00157551 0.00171281 0.00277688 0.00264301 0.00298283\n",
            " 0.03986782 0.04078509 0.04272932 0.04561193 0.04922508 0.05333962\n",
            " 0.05775269 0.06230487 0.06688138 0.07140562]\n",
            "day-11 output: \n",
            "[[0.07583036]]\n",
            "day-12 input: \n",
            "[0.00856405 0.00934323 0.00941531 0.00717046 0.00740387 0.00668648\n",
            " 0.00664873 0.0067414  0.00607893 0.00544049 0.00573568 0.00525514\n",
            " 0.00505948 0.00482951 0.00570479 0.00480205 0.0041945  0.00522081\n",
            " 0.00625056 0.00617848 0.00617504 0.00523454 0.00495308 0.00471967\n",
            " 0.0048501  0.00536498 0.00450685 0.00567733 0.00595193 0.00556063\n",
            " 0.00567733 0.0060755  0.00655262 0.00722538 0.00394736 0.00301716\n",
            " 0.00441418 0.00380319 0.00241647 0.0012151  0.         0.00108123\n",
            " 0.00173684 0.00187757 0.00133524 0.00360754 0.00445537 0.00421166\n",
            " 0.00515216 0.00529289 0.0051247  0.00480548 0.00417734 0.00467505\n",
            " 0.00515903 0.00481578 0.0043318  0.0040366  0.00602745 0.00602745\n",
            " 0.00583866 0.00550914 0.00465102 0.00395079 0.0035286  0.00322654\n",
            " 0.0033913  0.00418763 0.00399541 0.00255034 0.00234439 0.00171968\n",
            " 0.00191876 0.00211098 0.00148627 0.00199084 0.00135926 0.00088901\n",
            " 0.00172311 0.00164759 0.00195308 0.00159611 0.0009508  0.0013421\n",
            " 0.00157551 0.00171281 0.00277688 0.00264301 0.00298283 0.03986782\n",
            " 0.04078509 0.04272932 0.04561193 0.04922508 0.05333962 0.05775269\n",
            " 0.06230487 0.06688138 0.07140562 0.07583036]\n",
            "day-12 output: \n",
            "[[0.08012933]]\n",
            "day-13 input: \n",
            "[0.00934323 0.00941531 0.00717046 0.00740387 0.00668648 0.00664873\n",
            " 0.0067414  0.00607893 0.00544049 0.00573568 0.00525514 0.00505948\n",
            " 0.00482951 0.00570479 0.00480205 0.0041945  0.00522081 0.00625056\n",
            " 0.00617848 0.00617504 0.00523454 0.00495308 0.00471967 0.0048501\n",
            " 0.00536498 0.00450685 0.00567733 0.00595193 0.00556063 0.00567733\n",
            " 0.0060755  0.00655262 0.00722538 0.00394736 0.00301716 0.00441418\n",
            " 0.00380319 0.00241647 0.0012151  0.         0.00108123 0.00173684\n",
            " 0.00187757 0.00133524 0.00360754 0.00445537 0.00421166 0.00515216\n",
            " 0.00529289 0.0051247  0.00480548 0.00417734 0.00467505 0.00515903\n",
            " 0.00481578 0.0043318  0.0040366  0.00602745 0.00602745 0.00583866\n",
            " 0.00550914 0.00465102 0.00395079 0.0035286  0.00322654 0.0033913\n",
            " 0.00418763 0.00399541 0.00255034 0.00234439 0.00171968 0.00191876\n",
            " 0.00211098 0.00148627 0.00199084 0.00135926 0.00088901 0.00172311\n",
            " 0.00164759 0.00195308 0.00159611 0.0009508  0.0013421  0.00157551\n",
            " 0.00171281 0.00277688 0.00264301 0.00298283 0.03986782 0.04078509\n",
            " 0.04272932 0.04561193 0.04922508 0.05333962 0.05775269 0.06230487\n",
            " 0.06688138 0.07140562 0.07583036 0.08012933]\n",
            "day-13 output: \n",
            "[[0.08429017]]\n",
            "day-14 input: \n",
            "[0.00941531 0.00717046 0.00740387 0.00668648 0.00664873 0.0067414\n",
            " 0.00607893 0.00544049 0.00573568 0.00525514 0.00505948 0.00482951\n",
            " 0.00570479 0.00480205 0.0041945  0.00522081 0.00625056 0.00617848\n",
            " 0.00617504 0.00523454 0.00495308 0.00471967 0.0048501  0.00536498\n",
            " 0.00450685 0.00567733 0.00595193 0.00556063 0.00567733 0.0060755\n",
            " 0.00655262 0.00722538 0.00394736 0.00301716 0.00441418 0.00380319\n",
            " 0.00241647 0.0012151  0.         0.00108123 0.00173684 0.00187757\n",
            " 0.00133524 0.00360754 0.00445537 0.00421166 0.00515216 0.00529289\n",
            " 0.0051247  0.00480548 0.00417734 0.00467505 0.00515903 0.00481578\n",
            " 0.0043318  0.0040366  0.00602745 0.00602745 0.00583866 0.00550914\n",
            " 0.00465102 0.00395079 0.0035286  0.00322654 0.0033913  0.00418763\n",
            " 0.00399541 0.00255034 0.00234439 0.00171968 0.00191876 0.00211098\n",
            " 0.00148627 0.00199084 0.00135926 0.00088901 0.00172311 0.00164759\n",
            " 0.00195308 0.00159611 0.0009508  0.0013421  0.00157551 0.00171281\n",
            " 0.00277688 0.00264301 0.00298283 0.03986782 0.04078509 0.04272932\n",
            " 0.04561193 0.04922508 0.05333962 0.05775269 0.06230487 0.06688138\n",
            " 0.07140562 0.07583036 0.08012933 0.08429017]\n",
            "day-14 output: \n",
            "[[0.08830933]]\n",
            "day-15 input: \n",
            "[0.00717046 0.00740387 0.00668648 0.00664873 0.0067414  0.00607893\n",
            " 0.00544049 0.00573568 0.00525514 0.00505948 0.00482951 0.00570479\n",
            " 0.00480205 0.0041945  0.00522081 0.00625056 0.00617848 0.00617504\n",
            " 0.00523454 0.00495308 0.00471967 0.0048501  0.00536498 0.00450685\n",
            " 0.00567733 0.00595193 0.00556063 0.00567733 0.0060755  0.00655262\n",
            " 0.00722538 0.00394736 0.00301716 0.00441418 0.00380319 0.00241647\n",
            " 0.0012151  0.         0.00108123 0.00173684 0.00187757 0.00133524\n",
            " 0.00360754 0.00445537 0.00421166 0.00515216 0.00529289 0.0051247\n",
            " 0.00480548 0.00417734 0.00467505 0.00515903 0.00481578 0.0043318\n",
            " 0.0040366  0.00602745 0.00602745 0.00583866 0.00550914 0.00465102\n",
            " 0.00395079 0.0035286  0.00322654 0.0033913  0.00418763 0.00399541\n",
            " 0.00255034 0.00234439 0.00171968 0.00191876 0.00211098 0.00148627\n",
            " 0.00199084 0.00135926 0.00088901 0.00172311 0.00164759 0.00195308\n",
            " 0.00159611 0.0009508  0.0013421  0.00157551 0.00171281 0.00277688\n",
            " 0.00264301 0.00298283 0.03986782 0.04078509 0.04272932 0.04561193\n",
            " 0.04922508 0.05333962 0.05775269 0.06230487 0.06688138 0.07140562\n",
            " 0.07583036 0.08012933 0.08429017 0.08830933]\n",
            "day-15 output: \n",
            "[[0.09218829]]\n",
            "day-16 input: \n",
            "[0.00740387 0.00668648 0.00664873 0.0067414  0.00607893 0.00544049\n",
            " 0.00573568 0.00525514 0.00505948 0.00482951 0.00570479 0.00480205\n",
            " 0.0041945  0.00522081 0.00625056 0.00617848 0.00617504 0.00523454\n",
            " 0.00495308 0.00471967 0.0048501  0.00536498 0.00450685 0.00567733\n",
            " 0.00595193 0.00556063 0.00567733 0.0060755  0.00655262 0.00722538\n",
            " 0.00394736 0.00301716 0.00441418 0.00380319 0.00241647 0.0012151\n",
            " 0.         0.00108123 0.00173684 0.00187757 0.00133524 0.00360754\n",
            " 0.00445537 0.00421166 0.00515216 0.00529289 0.0051247  0.00480548\n",
            " 0.00417734 0.00467505 0.00515903 0.00481578 0.0043318  0.0040366\n",
            " 0.00602745 0.00602745 0.00583866 0.00550914 0.00465102 0.00395079\n",
            " 0.0035286  0.00322654 0.0033913  0.00418763 0.00399541 0.00255034\n",
            " 0.00234439 0.00171968 0.00191876 0.00211098 0.00148627 0.00199084\n",
            " 0.00135926 0.00088901 0.00172311 0.00164759 0.00195308 0.00159611\n",
            " 0.0009508  0.0013421  0.00157551 0.00171281 0.00277688 0.00264301\n",
            " 0.00298283 0.03986782 0.04078509 0.04272932 0.04561193 0.04922508\n",
            " 0.05333962 0.05775269 0.06230487 0.06688138 0.07140562 0.07583036\n",
            " 0.08012933 0.08429017 0.08830933 0.09218829]\n",
            "day-16 output: \n",
            "[[0.09593137]]\n",
            "day-17 input: \n",
            "[0.00668648 0.00664873 0.0067414  0.00607893 0.00544049 0.00573568\n",
            " 0.00525514 0.00505948 0.00482951 0.00570479 0.00480205 0.0041945\n",
            " 0.00522081 0.00625056 0.00617848 0.00617504 0.00523454 0.00495308\n",
            " 0.00471967 0.0048501  0.00536498 0.00450685 0.00567733 0.00595193\n",
            " 0.00556063 0.00567733 0.0060755  0.00655262 0.00722538 0.00394736\n",
            " 0.00301716 0.00441418 0.00380319 0.00241647 0.0012151  0.\n",
            " 0.00108123 0.00173684 0.00187757 0.00133524 0.00360754 0.00445537\n",
            " 0.00421166 0.00515216 0.00529289 0.0051247  0.00480548 0.00417734\n",
            " 0.00467505 0.00515903 0.00481578 0.0043318  0.0040366  0.00602745\n",
            " 0.00602745 0.00583866 0.00550914 0.00465102 0.00395079 0.0035286\n",
            " 0.00322654 0.0033913  0.00418763 0.00399541 0.00255034 0.00234439\n",
            " 0.00171968 0.00191876 0.00211098 0.00148627 0.00199084 0.00135926\n",
            " 0.00088901 0.00172311 0.00164759 0.00195308 0.00159611 0.0009508\n",
            " 0.0013421  0.00157551 0.00171281 0.00277688 0.00264301 0.00298283\n",
            " 0.03986782 0.04078509 0.04272932 0.04561193 0.04922508 0.05333962\n",
            " 0.05775269 0.06230487 0.06688138 0.07140562 0.07583036 0.08012933\n",
            " 0.08429017 0.08830933 0.09218829 0.09593137]\n",
            "day-17 output: \n",
            "[[0.09954418]]\n",
            "day-18 input: \n",
            "[0.00664873 0.0067414  0.00607893 0.00544049 0.00573568 0.00525514\n",
            " 0.00505948 0.00482951 0.00570479 0.00480205 0.0041945  0.00522081\n",
            " 0.00625056 0.00617848 0.00617504 0.00523454 0.00495308 0.00471967\n",
            " 0.0048501  0.00536498 0.00450685 0.00567733 0.00595193 0.00556063\n",
            " 0.00567733 0.0060755  0.00655262 0.00722538 0.00394736 0.00301716\n",
            " 0.00441418 0.00380319 0.00241647 0.0012151  0.         0.00108123\n",
            " 0.00173684 0.00187757 0.00133524 0.00360754 0.00445537 0.00421166\n",
            " 0.00515216 0.00529289 0.0051247  0.00480548 0.00417734 0.00467505\n",
            " 0.00515903 0.00481578 0.0043318  0.0040366  0.00602745 0.00602745\n",
            " 0.00583866 0.00550914 0.00465102 0.00395079 0.0035286  0.00322654\n",
            " 0.0033913  0.00418763 0.00399541 0.00255034 0.00234439 0.00171968\n",
            " 0.00191876 0.00211098 0.00148627 0.00199084 0.00135926 0.00088901\n",
            " 0.00172311 0.00164759 0.00195308 0.00159611 0.0009508  0.0013421\n",
            " 0.00157551 0.00171281 0.00277688 0.00264301 0.00298283 0.03986782\n",
            " 0.04078509 0.04272932 0.04561193 0.04922508 0.05333962 0.05775269\n",
            " 0.06230487 0.06688138 0.07140562 0.07583036 0.08012933 0.08429017\n",
            " 0.08830933 0.09218829 0.09593137 0.09954418]\n",
            "day-18 output: \n",
            "[[0.10303295]]\n",
            "day-19 input: \n",
            "[0.0067414  0.00607893 0.00544049 0.00573568 0.00525514 0.00505948\n",
            " 0.00482951 0.00570479 0.00480205 0.0041945  0.00522081 0.00625056\n",
            " 0.00617848 0.00617504 0.00523454 0.00495308 0.00471967 0.0048501\n",
            " 0.00536498 0.00450685 0.00567733 0.00595193 0.00556063 0.00567733\n",
            " 0.0060755  0.00655262 0.00722538 0.00394736 0.00301716 0.00441418\n",
            " 0.00380319 0.00241647 0.0012151  0.         0.00108123 0.00173684\n",
            " 0.00187757 0.00133524 0.00360754 0.00445537 0.00421166 0.00515216\n",
            " 0.00529289 0.0051247  0.00480548 0.00417734 0.00467505 0.00515903\n",
            " 0.00481578 0.0043318  0.0040366  0.00602745 0.00602745 0.00583866\n",
            " 0.00550914 0.00465102 0.00395079 0.0035286  0.00322654 0.0033913\n",
            " 0.00418763 0.00399541 0.00255034 0.00234439 0.00171968 0.00191876\n",
            " 0.00211098 0.00148627 0.00199084 0.00135926 0.00088901 0.00172311\n",
            " 0.00164759 0.00195308 0.00159611 0.0009508  0.0013421  0.00157551\n",
            " 0.00171281 0.00277688 0.00264301 0.00298283 0.03986782 0.04078509\n",
            " 0.04272932 0.04561193 0.04922508 0.05333962 0.05775269 0.06230487\n",
            " 0.06688138 0.07140562 0.07583036 0.08012933 0.08429017 0.08830933\n",
            " 0.09218829 0.09593137 0.09954418 0.10303295]\n",
            "day-19 output: \n",
            "[[0.106404]]\n",
            "day-20 input: \n",
            "[0.00607893 0.00544049 0.00573568 0.00525514 0.00505948 0.00482951\n",
            " 0.00570479 0.00480205 0.0041945  0.00522081 0.00625056 0.00617848\n",
            " 0.00617504 0.00523454 0.00495308 0.00471967 0.0048501  0.00536498\n",
            " 0.00450685 0.00567733 0.00595193 0.00556063 0.00567733 0.0060755\n",
            " 0.00655262 0.00722538 0.00394736 0.00301716 0.00441418 0.00380319\n",
            " 0.00241647 0.0012151  0.         0.00108123 0.00173684 0.00187757\n",
            " 0.00133524 0.00360754 0.00445537 0.00421166 0.00515216 0.00529289\n",
            " 0.0051247  0.00480548 0.00417734 0.00467505 0.00515903 0.00481578\n",
            " 0.0043318  0.0040366  0.00602745 0.00602745 0.00583866 0.00550914\n",
            " 0.00465102 0.00395079 0.0035286  0.00322654 0.0033913  0.00418763\n",
            " 0.00399541 0.00255034 0.00234439 0.00171968 0.00191876 0.00211098\n",
            " 0.00148627 0.00199084 0.00135926 0.00088901 0.00172311 0.00164759\n",
            " 0.00195308 0.00159611 0.0009508  0.0013421  0.00157551 0.00171281\n",
            " 0.00277688 0.00264301 0.00298283 0.03986782 0.04078509 0.04272932\n",
            " 0.04561193 0.04922508 0.05333962 0.05775269 0.06230487 0.06688138\n",
            " 0.07140562 0.07583036 0.08012933 0.08429017 0.08830933 0.09218829\n",
            " 0.09593137 0.09954418 0.10303295 0.106404  ]\n",
            "day-20 output: \n",
            "[[0.10966358]]\n",
            "day-21 input: \n",
            "[0.00544049 0.00573568 0.00525514 0.00505948 0.00482951 0.00570479\n",
            " 0.00480205 0.0041945  0.00522081 0.00625056 0.00617848 0.00617504\n",
            " 0.00523454 0.00495308 0.00471967 0.0048501  0.00536498 0.00450685\n",
            " 0.00567733 0.00595193 0.00556063 0.00567733 0.0060755  0.00655262\n",
            " 0.00722538 0.00394736 0.00301716 0.00441418 0.00380319 0.00241647\n",
            " 0.0012151  0.         0.00108123 0.00173684 0.00187757 0.00133524\n",
            " 0.00360754 0.00445537 0.00421166 0.00515216 0.00529289 0.0051247\n",
            " 0.00480548 0.00417734 0.00467505 0.00515903 0.00481578 0.0043318\n",
            " 0.0040366  0.00602745 0.00602745 0.00583866 0.00550914 0.00465102\n",
            " 0.00395079 0.0035286  0.00322654 0.0033913  0.00418763 0.00399541\n",
            " 0.00255034 0.00234439 0.00171968 0.00191876 0.00211098 0.00148627\n",
            " 0.00199084 0.00135926 0.00088901 0.00172311 0.00164759 0.00195308\n",
            " 0.00159611 0.0009508  0.0013421  0.00157551 0.00171281 0.00277688\n",
            " 0.00264301 0.00298283 0.03986782 0.04078509 0.04272932 0.04561193\n",
            " 0.04922508 0.05333962 0.05775269 0.06230487 0.06688138 0.07140562\n",
            " 0.07583036 0.08012933 0.08429017 0.08830933 0.09218829 0.09593137\n",
            " 0.09954418 0.10303295 0.106404   0.10966358]\n",
            "day-21 output: \n",
            "[[0.11281785]]\n",
            "day-22 input: \n",
            "[0.00573568 0.00525514 0.00505948 0.00482951 0.00570479 0.00480205\n",
            " 0.0041945  0.00522081 0.00625056 0.00617848 0.00617504 0.00523454\n",
            " 0.00495308 0.00471967 0.0048501  0.00536498 0.00450685 0.00567733\n",
            " 0.00595193 0.00556063 0.00567733 0.0060755  0.00655262 0.00722538\n",
            " 0.00394736 0.00301716 0.00441418 0.00380319 0.00241647 0.0012151\n",
            " 0.         0.00108123 0.00173684 0.00187757 0.00133524 0.00360754\n",
            " 0.00445537 0.00421166 0.00515216 0.00529289 0.0051247  0.00480548\n",
            " 0.00417734 0.00467505 0.00515903 0.00481578 0.0043318  0.0040366\n",
            " 0.00602745 0.00602745 0.00583866 0.00550914 0.00465102 0.00395079\n",
            " 0.0035286  0.00322654 0.0033913  0.00418763 0.00399541 0.00255034\n",
            " 0.00234439 0.00171968 0.00191876 0.00211098 0.00148627 0.00199084\n",
            " 0.00135926 0.00088901 0.00172311 0.00164759 0.00195308 0.00159611\n",
            " 0.0009508  0.0013421  0.00157551 0.00171281 0.00277688 0.00264301\n",
            " 0.00298283 0.03986782 0.04078509 0.04272932 0.04561193 0.04922508\n",
            " 0.05333962 0.05775269 0.06230487 0.06688138 0.07140562 0.07583036\n",
            " 0.08012933 0.08429017 0.08830933 0.09218829 0.09593137 0.09954418\n",
            " 0.10303295 0.106404   0.10966358 0.11281785]\n",
            "day-22 output: \n",
            "[[0.11587273]]\n",
            "day-23 input: \n",
            "[0.00525514 0.00505948 0.00482951 0.00570479 0.00480205 0.0041945\n",
            " 0.00522081 0.00625056 0.00617848 0.00617504 0.00523454 0.00495308\n",
            " 0.00471967 0.0048501  0.00536498 0.00450685 0.00567733 0.00595193\n",
            " 0.00556063 0.00567733 0.0060755  0.00655262 0.00722538 0.00394736\n",
            " 0.00301716 0.00441418 0.00380319 0.00241647 0.0012151  0.\n",
            " 0.00108123 0.00173684 0.00187757 0.00133524 0.00360754 0.00445537\n",
            " 0.00421166 0.00515216 0.00529289 0.0051247  0.00480548 0.00417734\n",
            " 0.00467505 0.00515903 0.00481578 0.0043318  0.0040366  0.00602745\n",
            " 0.00602745 0.00583866 0.00550914 0.00465102 0.00395079 0.0035286\n",
            " 0.00322654 0.0033913  0.00418763 0.00399541 0.00255034 0.00234439\n",
            " 0.00171968 0.00191876 0.00211098 0.00148627 0.00199084 0.00135926\n",
            " 0.00088901 0.00172311 0.00164759 0.00195308 0.00159611 0.0009508\n",
            " 0.0013421  0.00157551 0.00171281 0.00277688 0.00264301 0.00298283\n",
            " 0.03986782 0.04078509 0.04272932 0.04561193 0.04922508 0.05333962\n",
            " 0.05775269 0.06230487 0.06688138 0.07140562 0.07583036 0.08012933\n",
            " 0.08429017 0.08830933 0.09218829 0.09593137 0.09954418 0.10303295\n",
            " 0.106404   0.10966358 0.11281785 0.11587273]\n",
            "day-23 output: \n",
            "[[0.118834]]\n",
            "day-24 input: \n",
            "[0.00505948 0.00482951 0.00570479 0.00480205 0.0041945  0.00522081\n",
            " 0.00625056 0.00617848 0.00617504 0.00523454 0.00495308 0.00471967\n",
            " 0.0048501  0.00536498 0.00450685 0.00567733 0.00595193 0.00556063\n",
            " 0.00567733 0.0060755  0.00655262 0.00722538 0.00394736 0.00301716\n",
            " 0.00441418 0.00380319 0.00241647 0.0012151  0.         0.00108123\n",
            " 0.00173684 0.00187757 0.00133524 0.00360754 0.00445537 0.00421166\n",
            " 0.00515216 0.00529289 0.0051247  0.00480548 0.00417734 0.00467505\n",
            " 0.00515903 0.00481578 0.0043318  0.0040366  0.00602745 0.00602745\n",
            " 0.00583866 0.00550914 0.00465102 0.00395079 0.0035286  0.00322654\n",
            " 0.0033913  0.00418763 0.00399541 0.00255034 0.00234439 0.00171968\n",
            " 0.00191876 0.00211098 0.00148627 0.00199084 0.00135926 0.00088901\n",
            " 0.00172311 0.00164759 0.00195308 0.00159611 0.0009508  0.0013421\n",
            " 0.00157551 0.00171281 0.00277688 0.00264301 0.00298283 0.03986782\n",
            " 0.04078509 0.04272932 0.04561193 0.04922508 0.05333962 0.05775269\n",
            " 0.06230487 0.06688138 0.07140562 0.07583036 0.08012933 0.08429017\n",
            " 0.08830933 0.09218829 0.09593137 0.09954418 0.10303295 0.106404\n",
            " 0.10966358 0.11281785 0.11587273 0.118834  ]\n",
            "day-24 output: \n",
            "[[0.12170722]]\n",
            "day-25 input: \n",
            "[0.00482951 0.00570479 0.00480205 0.0041945  0.00522081 0.00625056\n",
            " 0.00617848 0.00617504 0.00523454 0.00495308 0.00471967 0.0048501\n",
            " 0.00536498 0.00450685 0.00567733 0.00595193 0.00556063 0.00567733\n",
            " 0.0060755  0.00655262 0.00722538 0.00394736 0.00301716 0.00441418\n",
            " 0.00380319 0.00241647 0.0012151  0.         0.00108123 0.00173684\n",
            " 0.00187757 0.00133524 0.00360754 0.00445537 0.00421166 0.00515216\n",
            " 0.00529289 0.0051247  0.00480548 0.00417734 0.00467505 0.00515903\n",
            " 0.00481578 0.0043318  0.0040366  0.00602745 0.00602745 0.00583866\n",
            " 0.00550914 0.00465102 0.00395079 0.0035286  0.00322654 0.0033913\n",
            " 0.00418763 0.00399541 0.00255034 0.00234439 0.00171968 0.00191876\n",
            " 0.00211098 0.00148627 0.00199084 0.00135926 0.00088901 0.00172311\n",
            " 0.00164759 0.00195308 0.00159611 0.0009508  0.0013421  0.00157551\n",
            " 0.00171281 0.00277688 0.00264301 0.00298283 0.03986782 0.04078509\n",
            " 0.04272932 0.04561193 0.04922508 0.05333962 0.05775269 0.06230487\n",
            " 0.06688138 0.07140562 0.07583036 0.08012933 0.08429017 0.08830933\n",
            " 0.09218829 0.09593137 0.09954418 0.10303295 0.106404   0.10966358\n",
            " 0.11281785 0.11587273 0.118834   0.12170722]\n",
            "day-25 output: \n",
            "[[0.12449775]]\n",
            "day-26 input: \n",
            "[0.00570479 0.00480205 0.0041945  0.00522081 0.00625056 0.00617848\n",
            " 0.00617504 0.00523454 0.00495308 0.00471967 0.0048501  0.00536498\n",
            " 0.00450685 0.00567733 0.00595193 0.00556063 0.00567733 0.0060755\n",
            " 0.00655262 0.00722538 0.00394736 0.00301716 0.00441418 0.00380319\n",
            " 0.00241647 0.0012151  0.         0.00108123 0.00173684 0.00187757\n",
            " 0.00133524 0.00360754 0.00445537 0.00421166 0.00515216 0.00529289\n",
            " 0.0051247  0.00480548 0.00417734 0.00467505 0.00515903 0.00481578\n",
            " 0.0043318  0.0040366  0.00602745 0.00602745 0.00583866 0.00550914\n",
            " 0.00465102 0.00395079 0.0035286  0.00322654 0.0033913  0.00418763\n",
            " 0.00399541 0.00255034 0.00234439 0.00171968 0.00191876 0.00211098\n",
            " 0.00148627 0.00199084 0.00135926 0.00088901 0.00172311 0.00164759\n",
            " 0.00195308 0.00159611 0.0009508  0.0013421  0.00157551 0.00171281\n",
            " 0.00277688 0.00264301 0.00298283 0.03986782 0.04078509 0.04272932\n",
            " 0.04561193 0.04922508 0.05333962 0.05775269 0.06230487 0.06688138\n",
            " 0.07140562 0.07583036 0.08012933 0.08429017 0.08830933 0.09218829\n",
            " 0.09593137 0.09954418 0.10303295 0.106404   0.10966358 0.11281785\n",
            " 0.11587273 0.118834   0.12170722 0.12449775]\n",
            "day-26 output: \n",
            "[[0.12721063]]\n",
            "day-27 input: \n",
            "[0.00480205 0.0041945  0.00522081 0.00625056 0.00617848 0.00617504\n",
            " 0.00523454 0.00495308 0.00471967 0.0048501  0.00536498 0.00450685\n",
            " 0.00567733 0.00595193 0.00556063 0.00567733 0.0060755  0.00655262\n",
            " 0.00722538 0.00394736 0.00301716 0.00441418 0.00380319 0.00241647\n",
            " 0.0012151  0.         0.00108123 0.00173684 0.00187757 0.00133524\n",
            " 0.00360754 0.00445537 0.00421166 0.00515216 0.00529289 0.0051247\n",
            " 0.00480548 0.00417734 0.00467505 0.00515903 0.00481578 0.0043318\n",
            " 0.0040366  0.00602745 0.00602745 0.00583866 0.00550914 0.00465102\n",
            " 0.00395079 0.0035286  0.00322654 0.0033913  0.00418763 0.00399541\n",
            " 0.00255034 0.00234439 0.00171968 0.00191876 0.00211098 0.00148627\n",
            " 0.00199084 0.00135926 0.00088901 0.00172311 0.00164759 0.00195308\n",
            " 0.00159611 0.0009508  0.0013421  0.00157551 0.00171281 0.00277688\n",
            " 0.00264301 0.00298283 0.03986782 0.04078509 0.04272932 0.04561193\n",
            " 0.04922508 0.05333962 0.05775269 0.06230487 0.06688138 0.07140562\n",
            " 0.07583036 0.08012933 0.08429017 0.08830933 0.09218829 0.09593137\n",
            " 0.09954418 0.10303295 0.106404   0.10966358 0.11281785 0.11587273\n",
            " 0.118834   0.12170722 0.12449775 0.12721063]\n",
            "day-27 output: \n",
            "[[0.12985078]]\n",
            "day-28 input: \n",
            "[0.0041945  0.00522081 0.00625056 0.00617848 0.00617504 0.00523454\n",
            " 0.00495308 0.00471967 0.0048501  0.00536498 0.00450685 0.00567733\n",
            " 0.00595193 0.00556063 0.00567733 0.0060755  0.00655262 0.00722538\n",
            " 0.00394736 0.00301716 0.00441418 0.00380319 0.00241647 0.0012151\n",
            " 0.         0.00108123 0.00173684 0.00187757 0.00133524 0.00360754\n",
            " 0.00445537 0.00421166 0.00515216 0.00529289 0.0051247  0.00480548\n",
            " 0.00417734 0.00467505 0.00515903 0.00481578 0.0043318  0.0040366\n",
            " 0.00602745 0.00602745 0.00583866 0.00550914 0.00465102 0.00395079\n",
            " 0.0035286  0.00322654 0.0033913  0.00418763 0.00399541 0.00255034\n",
            " 0.00234439 0.00171968 0.00191876 0.00211098 0.00148627 0.00199084\n",
            " 0.00135926 0.00088901 0.00172311 0.00164759 0.00195308 0.00159611\n",
            " 0.0009508  0.0013421  0.00157551 0.00171281 0.00277688 0.00264301\n",
            " 0.00298283 0.03986782 0.04078509 0.04272932 0.04561193 0.04922508\n",
            " 0.05333962 0.05775269 0.06230487 0.06688138 0.07140562 0.07583036\n",
            " 0.08012933 0.08429017 0.08830933 0.09218829 0.09593137 0.09954418\n",
            " 0.10303295 0.106404   0.10966358 0.11281785 0.11587273 0.118834\n",
            " 0.12170722 0.12449775 0.12721063 0.12985078]\n",
            "day-28 output: \n",
            "[[0.13242269]]\n",
            "day-29 input: \n",
            "[0.00522081 0.00625056 0.00617848 0.00617504 0.00523454 0.00495308\n",
            " 0.00471967 0.0048501  0.00536498 0.00450685 0.00567733 0.00595193\n",
            " 0.00556063 0.00567733 0.0060755  0.00655262 0.00722538 0.00394736\n",
            " 0.00301716 0.00441418 0.00380319 0.00241647 0.0012151  0.\n",
            " 0.00108123 0.00173684 0.00187757 0.00133524 0.00360754 0.00445537\n",
            " 0.00421166 0.00515216 0.00529289 0.0051247  0.00480548 0.00417734\n",
            " 0.00467505 0.00515903 0.00481578 0.0043318  0.0040366  0.00602745\n",
            " 0.00602745 0.00583866 0.00550914 0.00465102 0.00395079 0.0035286\n",
            " 0.00322654 0.0033913  0.00418763 0.00399541 0.00255034 0.00234439\n",
            " 0.00171968 0.00191876 0.00211098 0.00148627 0.00199084 0.00135926\n",
            " 0.00088901 0.00172311 0.00164759 0.00195308 0.00159611 0.0009508\n",
            " 0.0013421  0.00157551 0.00171281 0.00277688 0.00264301 0.00298283\n",
            " 0.03986782 0.04078509 0.04272932 0.04561193 0.04922508 0.05333962\n",
            " 0.05775269 0.06230487 0.06688138 0.07140562 0.07583036 0.08012933\n",
            " 0.08429017 0.08830933 0.09218829 0.09593137 0.09954418 0.10303295\n",
            " 0.106404   0.10966358 0.11281785 0.11587273 0.118834   0.12170722\n",
            " 0.12449775 0.12721063 0.12985078 0.13242269]\n",
            "day-29 output: \n",
            "[[0.13493064]]\n",
            "day-30 input: \n",
            "[0.00625056 0.00617848 0.00617504 0.00523454 0.00495308 0.00471967\n",
            " 0.0048501  0.00536498 0.00450685 0.00567733 0.00595193 0.00556063\n",
            " 0.00567733 0.0060755  0.00655262 0.00722538 0.00394736 0.00301716\n",
            " 0.00441418 0.00380319 0.00241647 0.0012151  0.         0.00108123\n",
            " 0.00173684 0.00187757 0.00133524 0.00360754 0.00445537 0.00421166\n",
            " 0.00515216 0.00529289 0.0051247  0.00480548 0.00417734 0.00467505\n",
            " 0.00515903 0.00481578 0.0043318  0.0040366  0.00602745 0.00602745\n",
            " 0.00583866 0.00550914 0.00465102 0.00395079 0.0035286  0.00322654\n",
            " 0.0033913  0.00418763 0.00399541 0.00255034 0.00234439 0.00171968\n",
            " 0.00191876 0.00211098 0.00148627 0.00199084 0.00135926 0.00088901\n",
            " 0.00172311 0.00164759 0.00195308 0.00159611 0.0009508  0.0013421\n",
            " 0.00157551 0.00171281 0.00277688 0.00264301 0.00298283 0.03986782\n",
            " 0.04078509 0.04272932 0.04561193 0.04922508 0.05333962 0.05775269\n",
            " 0.06230487 0.06688138 0.07140562 0.07583036 0.08012933 0.08429017\n",
            " 0.08830933 0.09218829 0.09593137 0.09954418 0.10303295 0.106404\n",
            " 0.10966358 0.11281785 0.11587273 0.118834   0.12170722 0.12449775\n",
            " 0.12721063 0.12985078 0.13242269 0.13493064]\n",
            "day-30 output: \n",
            "[[0.1373786]]\n",
            "[[0.0398678183555603], [0.04078508913516998], [0.042729318141937256], [0.04561193287372589], [0.04922507703304291], [0.05333962291479111], [0.057752687484025955], [0.062304865568876266], [0.06688138097524643], [0.07140561938285828], [0.0758303552865982], [0.08012932538986206], [0.08429016917943954], [0.08830932527780533], [0.0921882912516594], [0.09593136608600616], [0.09954418241977692], [0.10303294658660889], [0.10640399903059006], [0.10966358333826065], [0.11281785368919373], [0.11587273329496384], [0.1188340038061142], [0.12170722335577011], [0.12449774891138077], [0.12721063196659088], [0.12985077500343323], [0.13242268562316895], [0.13493064045906067], [0.13737860321998596]]\n"
          ]
        }
      ],
      "source": [
        "lst_output=[]\n",
        "n_steps=100\n",
        "i=0\n",
        "while(i<30):\n",
        "    \n",
        "    if(len(temp_input)>100):\n",
        "        #print(temp_input)\n",
        "        x_input=np.array(temp_input[1:])\n",
        "        print(\"day-{} input: \\n{}\".format(i+1,x_input))\n",
        "        x_input=x_input.reshape(1,-1)\n",
        "        x_input = x_input.reshape((1, n_steps, 1))\n",
        "        #print(x_input)\n",
        "        yhat = model.predict(x_input, verbose=0)\n",
        "        print(\"day-{} output: \\n{}\".format(i+1,yhat))\n",
        "        temp_input.extend(yhat[0].tolist())\n",
        "        temp_input=temp_input[1:]\n",
        "        #print(temp_input)\n",
        "        lst_output.extend(yhat.tolist())\n",
        "        i=i+1\n",
        "    else:\n",
        "        x_input = x_input.reshape((1, n_steps,1))\n",
        "        yhat = model.predict(x_input, verbose=0)\n",
        "        print(yhat[0])\n",
        "        temp_input.extend(yhat[0].tolist())\n",
        "        print(len(temp_input))\n",
        "        lst_output.extend(yhat.tolist())\n",
        "        i=i+1\n",
        "    \n",
        "\n",
        "print(lst_output)"
      ]
    },
    {
      "cell_type": "code",
      "execution_count": null,
      "metadata": {
        "id": "R3Gx2X2adnzG"
      },
      "outputs": [],
      "source": [
        "day_new=np.arange(1,101)\n",
        "day_pred=np.arange(101,131)"
      ]
    },
    {
      "cell_type": "code",
      "execution_count": null,
      "metadata": {
        "colab": {
          "base_uri": "https://localhost:8080/"
        },
        "id": "R2qJEVFCfGi7",
        "outputId": "687b5009-5815-4110-ef5d-2a636f1eb0af"
      },
      "outputs": [
        {
          "data": {
            "text/plain": [
              "1259"
            ]
          },
          "execution_count": 36,
          "metadata": {},
          "output_type": "execute_result"
        }
      ],
      "source": [
        "len(df2)"
      ]
    },
    {
      "cell_type": "markdown",
      "metadata": {
        "id": "WqVySzxHEjFw"
      },
      "source": [
        "- Now Let's visualize the future Prediciton.  "
      ]
    },
    {
      "cell_type": "code",
      "execution_count": null,
      "metadata": {
        "colab": {
          "base_uri": "https://localhost:8080/",
          "height": 285
        },
        "id": "8wJUXO1cfANP",
        "outputId": "f879b1ec-7dfa-4bbf-933e-4b2caebb25bc"
      },
      "outputs": [
        {
          "data": {
            "text/plain": [
              "[<matplotlib.lines.Line2D at 0x7f9f7f3f3a30>]"
            ]
          },
          "execution_count": 37,
          "metadata": {},
          "output_type": "execute_result"
        },
        {
          "data": {
            "image/png": "[encoded data removed]",
            "text/plain": [
              "<Figure size 432x288 with 1 Axes>"
            ]
          },
          "metadata": {
            "needs_background": "light"
          },
          "output_type": "display_data"
        }
      ],
      "source": [
        "plt.plot(day_new,scaler.inverse_transform(df2[1159:]))\n",
        "plt.plot(day_pred,scaler.inverse_transform(lst_output))"
      ]
    },
    {
      "cell_type": "markdown",
      "metadata": {
        "id": "Hej1Z6T4ErO1"
      },
      "source": [
        "- Now Attach our prediction to the Actual Data and Visualize"
      ]
    },
    {
      "cell_type": "code",
      "execution_count": null,
      "metadata": {
        "colab": {
          "base_uri": "https://localhost:8080/",
          "height": 282
        },
        "id": "dki9_ggWfCn9",
        "outputId": "a2623569-70f5-403f-e9d7-b63722dead46"
      },
      "outputs": [
        {
          "data": {
            "text/plain": [
              "[<matplotlib.lines.Line2D at 0x7f9f7f3c8be0>]"
            ]
          },
          "execution_count": 38,
          "metadata": {},
          "output_type": "execute_result"
        },
        {
          "data": {
            "image/png": "[encoded data removed]",
            "text/plain": [
              "<Figure size 432x288 with 1 Axes>"
            ]
          },
          "metadata": {
            "needs_background": "light"
          },
          "output_type": "display_data"
        }
      ],
      "source": [
        "df3=df2.tolist()\n",
        "df3.extend(lst_output)\n",
        "plt.plot(df3[1200:])"
      ]
    },
    {
      "cell_type": "markdown",
      "metadata": {
        "id": "QrEQoAHuE1fx"
      },
      "source": [
        "- Visualizing the Whole attached new Data."
      ]
    },
    {
      "cell_type": "code",
      "execution_count": null,
      "metadata": {
        "colab": {
          "base_uri": "https://localhost:8080/",
          "height": 282
        },
        "id": "OZKhHTDYfUok",
        "outputId": "89d717b9-1790-4e3b-c4e0-c34cbc7b69a9"
      },
      "outputs": [
        {
          "data": {
            "text/plain": [
              "[<matplotlib.lines.Line2D at 0x7f9f7f335d60>]"
            ]
          },
          "execution_count": 39,
          "metadata": {},
          "output_type": "execute_result"
        },
        {
          "data": {
            "image/png": "[encoded data removed]",
            "text/plain": [
              "<Figure size 432x288 with 1 Axes>"
            ]
          },
          "metadata": {
            "needs_background": "light"
          },
          "output_type": "display_data"
        }
      ],
      "source": [
        "df3=scaler.inverse_transform(df3).tolist()\n",
        "plt.plot(df3)"
      ]
    }
  ],
  "metadata": {
    "colab": {
      "provenance": []
    },
    "gpuClass": "standard",
    "kernelspec": {
      "display_name": "Python 3",
      "name": "python3"
    },
    "language_info": {
      "name": "python"
    }
  },
  "nbformat": 4,
  "nbformat_minor": 0
}
